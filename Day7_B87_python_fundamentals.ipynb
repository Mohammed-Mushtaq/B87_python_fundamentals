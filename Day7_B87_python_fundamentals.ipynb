{
 "cells": [
  {
   "cell_type": "code",
   "execution_count": null,
   "id": "4593bafc-8574-43c7-b4b9-9ed8e552d69e",
   "metadata": {},
   "outputs": [],
   "source": [
    "Loop statements: "
   ]
  },
  {
   "cell_type": "code",
   "execution_count": null,
   "id": "77be97ae-b6ac-4ecc-8dd4-ee60466af7c2",
   "metadata": {},
   "outputs": [],
   "source": [
    "for loop: "
   ]
  },
  {
   "cell_type": "code",
   "execution_count": null,
   "id": "011021de-4c10-4e05-90ad-23d7ff077adb",
   "metadata": {},
   "outputs": [],
   "source": [
    "General syntax: \n",
    "\n",
    "for tempvar in mainvar:\n",
    "    print(tempvar)"
   ]
  },
  {
   "cell_type": "code",
   "execution_count": 1,
   "id": "04d2db54-d7b0-4683-bb74-3eefc0ac3369",
   "metadata": {},
   "outputs": [],
   "source": [
    "students = ['akshay', 'bhavana', 'chandu', 'dinesh', 'ehsan']"
   ]
  },
  {
   "cell_type": "code",
   "execution_count": 2,
   "id": "c97cf4df-0fcb-4c06-95c6-648c99a9dae2",
   "metadata": {},
   "outputs": [
    {
     "name": "stdout",
     "output_type": "stream",
     "text": [
      "['akshay', 'bhavana', 'chandu', 'dinesh', 'ehsan']\n"
     ]
    }
   ],
   "source": [
    "print(students)"
   ]
  },
  {
   "cell_type": "code",
   "execution_count": null,
   "id": "f3a9d3e8-d29b-423c-82e4-310b3034996f",
   "metadata": {},
   "outputs": [],
   "source": []
  },
  {
   "cell_type": "code",
   "execution_count": null,
   "id": "bb22268a-0858-4ea4-9d86-55a2422c2b55",
   "metadata": {},
   "outputs": [],
   "source": [
    "# req: I want to appreciate the above students for submitting the work on the daily basis."
   ]
  },
  {
   "cell_type": "code",
   "execution_count": 3,
   "id": "820856c3-e83b-4b3f-8b12-6fb1e50e087a",
   "metadata": {},
   "outputs": [
    {
     "name": "stdout",
     "output_type": "stream",
     "text": [
      "keep up the good work, Akshay\n",
      "keep up the good work, Bhavana\n",
      "keep up the good work, Chandu\n",
      "keep up the good work, Dinesh\n",
      "keep up the good work, Ehsan\n"
     ]
    }
   ],
   "source": [
    "for a in students:\n",
    "    print(f\"keep up the good work, {a.title()}\")"
   ]
  },
  {
   "cell_type": "code",
   "execution_count": null,
   "id": "768d551b-3d3b-4b45-aa92-0289a0cb9f4d",
   "metadata": {},
   "outputs": [],
   "source": []
  },
  {
   "cell_type": "code",
   "execution_count": 5,
   "id": "0a0b318b-df23-460d-ad6c-35f066701ddc",
   "metadata": {},
   "outputs": [
    {
     "name": "stdout",
     "output_type": "stream",
     "text": [
      "keep up the good work, Akshay\n",
      "i am waiting to receive your submission of today, Akshay\n",
      "keep up the good work, Bhavana\n",
      "i am waiting to receive your submission of today, Bhavana\n",
      "keep up the good work, Chandu\n",
      "i am waiting to receive your submission of today, Chandu\n",
      "keep up the good work, Dinesh\n",
      "i am waiting to receive your submission of today, Dinesh\n",
      "keep up the good work, Ehsan\n",
      "i am waiting to receive your submission of today, Ehsan\n"
     ]
    }
   ],
   "source": [
    "for a in students:\n",
    "    print(f\"keep up the good work, {a.title()}\")\n",
    "    print(f\"i am waiting to receive your submission of today, {a.title()}\")"
   ]
  },
  {
   "cell_type": "code",
   "execution_count": null,
   "id": "cc1cf35f-9861-4fdb-8c9f-1a55921a0250",
   "metadata": {},
   "outputs": [],
   "source": []
  },
  {
   "cell_type": "code",
   "execution_count": 6,
   "id": "87224fbb-d608-4388-9448-0dfca535fe25",
   "metadata": {},
   "outputs": [
    {
     "name": "stdout",
     "output_type": "stream",
     "text": [
      "keep up the good work, Akshay\n",
      "i am waiting to receive your submission of today, Akshay\n",
      "\n",
      "keep up the good work, Bhavana\n",
      "i am waiting to receive your submission of today, Bhavana\n",
      "\n",
      "keep up the good work, Chandu\n",
      "i am waiting to receive your submission of today, Chandu\n",
      "\n",
      "keep up the good work, Dinesh\n",
      "i am waiting to receive your submission of today, Dinesh\n",
      "\n",
      "keep up the good work, Ehsan\n",
      "i am waiting to receive your submission of today, Ehsan\n",
      "\n"
     ]
    }
   ],
   "source": [
    "for a in students:\n",
    "    print(f\"keep up the good work, {a.title()}\")\n",
    "    print(f\"i am waiting to receive your submission of today, {a.title()}\\n\")"
   ]
  },
  {
   "cell_type": "code",
   "execution_count": null,
   "id": "8b9db387-9786-4c13-902b-ecf1acfef382",
   "metadata": {},
   "outputs": [],
   "source": []
  },
  {
   "cell_type": "code",
   "execution_count": null,
   "id": "9a9b4d1a-b66d-4ca2-adcc-4e423b22a3a8",
   "metadata": {},
   "outputs": [],
   "source": []
  },
  {
   "cell_type": "code",
   "execution_count": null,
   "id": "24e1d794-4d39-4684-be36-17ebe47970e4",
   "metadata": {},
   "outputs": [],
   "source": []
  },
  {
   "cell_type": "code",
   "execution_count": null,
   "id": "e55a8a74-3824-4f70-b064-a897c15742aa",
   "metadata": {},
   "outputs": [],
   "source": []
  },
  {
   "cell_type": "code",
   "execution_count": null,
   "id": "aa7f6229-f853-4ba4-a5a6-943252dcc64b",
   "metadata": {},
   "outputs": [],
   "source": []
  },
  {
   "cell_type": "code",
   "execution_count": null,
   "id": "7511dff5-bc02-47e8-9870-9b60a9b5869b",
   "metadata": {},
   "outputs": [],
   "source": []
  },
  {
   "cell_type": "code",
   "execution_count": null,
   "id": "6fd7150f-da5b-4282-99b1-ab64d2ea5d93",
   "metadata": {},
   "outputs": [],
   "source": []
  }
 ],
 "metadata": {
  "kernelspec": {
   "display_name": "Python [conda env:base] *",
   "language": "python",
   "name": "conda-base-py"
  },
  "language_info": {
   "codemirror_mode": {
    "name": "ipython",
    "version": 3
   },
   "file_extension": ".py",
   "mimetype": "text/x-python",
   "name": "python",
   "nbconvert_exporter": "python",
   "pygments_lexer": "ipython3",
   "version": "3.13.5"
  }
 },
 "nbformat": 4,
 "nbformat_minor": 5
}
