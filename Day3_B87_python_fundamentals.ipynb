{
 "cells": [
  {
   "cell_type": "code",
   "execution_count": null,
   "id": "ddbc14f4-1dce-4430-9bd1-fce2deb4a60f",
   "metadata": {},
   "outputs": [],
   "source": [
    "Continuation with string datatype:"
   ]
  },
  {
   "cell_type": "code",
   "execution_count": null,
   "id": "5a2ab08e-b9db-47c6-b85b-9889a42ea0d5",
   "metadata": {},
   "outputs": [],
   "source": [
    "introduction to f string **"
   ]
  },
  {
   "cell_type": "code",
   "execution_count": 7,
   "id": "fc13dd45-c026-4386-93f9-3b92cafd72aa",
   "metadata": {},
   "outputs": [],
   "source": [
    "firstname = 'dinesh'\n",
    "lastname = 'kumar'"
   ]
  },
  {
   "cell_type": "code",
   "execution_count": null,
   "id": "4403e370-faf7-489d-ba22-c5a1cdad60c8",
   "metadata": {},
   "outputs": [],
   "source": []
  },
  {
   "cell_type": "code",
   "execution_count": null,
   "id": "e522d50c-d5c0-49be-a803-e2c0fe2ef40a",
   "metadata": {},
   "outputs": [],
   "source": [
    "# req: i want to get the fullname ....?"
   ]
  },
  {
   "cell_type": "code",
   "execution_count": null,
   "id": "55396535-894a-426c-a595-03a4eace3045",
   "metadata": {},
   "outputs": [],
   "source": [
    "# general syntax of f strings"
   ]
  },
  {
   "cell_type": "code",
   "execution_count": null,
   "id": "d3bbb75b-048e-4841-bca4-5d79190a6e4e",
   "metadata": {},
   "outputs": [],
   "source": [
    "f\"custom message {place_holder1} {place_holder2} ....{place_holder_n}\""
   ]
  },
  {
   "cell_type": "code",
   "execution_count": 8,
   "id": "641eafe4-c0a3-4617-84c7-aeab67d42f84",
   "metadata": {},
   "outputs": [
    {
     "name": "stdout",
     "output_type": "stream",
     "text": [
      "dinesh kumar\n"
     ]
    }
   ],
   "source": [
    "fullname = f\"{firstname} {lastname}\"\n",
    "print(fullname)  ## shift + enter to execute"
   ]
  },
  {
   "cell_type": "code",
   "execution_count": 9,
   "id": "1f21d13d-2b72-4cb3-9e05-04df0a9cd90f",
   "metadata": {},
   "outputs": [
    {
     "name": "stdout",
     "output_type": "stream",
     "text": [
      "Dinesh Kumar\n"
     ]
    }
   ],
   "source": [
    "print(fullname.title())"
   ]
  },
  {
   "cell_type": "code",
   "execution_count": 10,
   "id": "6c70b4e5-2980-4d59-a2dd-9d5ddbbc90bf",
   "metadata": {},
   "outputs": [
    {
     "name": "stdout",
     "output_type": "stream",
     "text": [
      "keep up the good work, Dinesh Kumar\n"
     ]
    }
   ],
   "source": [
    "message = f\"keep up the good work, {fullname.title()}\"\n",
    "print(message)"
   ]
  },
  {
   "cell_type": "code",
   "execution_count": null,
   "id": "d130c701-7864-4c00-adad-0746adbc3433",
   "metadata": {},
   "outputs": [],
   "source": []
  },
  {
   "cell_type": "code",
   "execution_count": null,
   "id": "9fd6878c-5eb3-4973-b477-6c9b39abd1c1",
   "metadata": {},
   "outputs": [],
   "source": [
    "Adding whitespaces to strings:"
   ]
  },
  {
   "cell_type": "code",
   "execution_count": 11,
   "id": "db7cbbf1-f91e-4543-b546-0ab688de2c35",
   "metadata": {},
   "outputs": [
    {
     "name": "stdout",
     "output_type": "stream",
     "text": [
      "favourite_language: PythonCjavaC++swiftjavascript\n"
     ]
    }
   ],
   "source": [
    "print(\"favourite_language: PythonCjavaC++swiftjavascript\")"
   ]
  },
  {
   "cell_type": "code",
   "execution_count": 12,
   "id": "5cf45d58-44be-4e22-bd2f-bf71e07e93c2",
   "metadata": {},
   "outputs": [
    {
     "name": "stdout",
     "output_type": "stream",
     "text": [
      "favourite_language: Python\n",
      "C\n",
      "java\n",
      "C++\n",
      "swift\n",
      "javascript\n"
     ]
    }
   ],
   "source": [
    "print(\"favourite_language: Python\\nC\\njava\\nC++\\nswift\\njavascript\")  #\\n ---> new line delimiter"
   ]
  },
  {
   "cell_type": "code",
   "execution_count": 14,
   "id": "47f06784-d42d-49a6-b889-2a4b5ee7e435",
   "metadata": {},
   "outputs": [
    {
     "name": "stdout",
     "output_type": "stream",
     "text": [
      "favourite_language: Python\tC\tjava\tC++\tswift\tjavascript\n"
     ]
    }
   ],
   "source": [
    "print(\"favourite_language: Python\\tC\\tjava\\tC++\\tswift\\tjavascript\")  #\\t ---> tab delimiter"
   ]
  },
  {
   "cell_type": "code",
   "execution_count": null,
   "id": "51337196-fa15-40b5-89f1-e1e44f517934",
   "metadata": {},
   "outputs": [],
   "source": []
  },
  {
   "cell_type": "code",
   "execution_count": null,
   "id": "b379b586-2221-4732-8b0d-a8df5a3ce23b",
   "metadata": {},
   "outputs": [],
   "source": [
    "Removing whitespaces from the strings:"
   ]
  },
  {
   "cell_type": "code",
   "execution_count": 15,
   "id": "11f2ef58-b0cd-48a5-b287-2b17ce9509bb",
   "metadata": {},
   "outputs": [
    {
     "name": "stdout",
     "output_type": "stream",
     "text": [
      "  python\n"
     ]
    }
   ],
   "source": [
    "name = \"  python\"\n",
    "print(name)"
   ]
  },
  {
   "cell_type": "code",
   "execution_count": 16,
   "id": "8e4314d2-b944-4340-9e8f-f73e3c72b1aa",
   "metadata": {},
   "outputs": [
    {
     "name": "stdout",
     "output_type": "stream",
     "text": [
      "python\n"
     ]
    }
   ],
   "source": [
    "name2 = \"python\"\n",
    "print(name2)"
   ]
  },
  {
   "cell_type": "code",
   "execution_count": 17,
   "id": "13bbb588-bd7c-468d-891b-569f39140865",
   "metadata": {},
   "outputs": [
    {
     "name": "stdout",
     "output_type": "stream",
     "text": [
      "python  \n"
     ]
    }
   ],
   "source": [
    "name3 = \"python  \"\n",
    "print(name3)"
   ]
  },
  {
   "cell_type": "code",
   "execution_count": 18,
   "id": "dbfa12a2-6e03-4778-ab5f-e3e51a32042b",
   "metadata": {},
   "outputs": [
    {
     "data": {
      "text/plain": [
       "'python'"
      ]
     },
     "execution_count": 18,
     "metadata": {},
     "output_type": "execute_result"
    }
   ],
   "source": [
    "name.lstrip()"
   ]
  },
  {
   "cell_type": "code",
   "execution_count": 19,
   "id": "00f6e4b2-5eee-495a-beaa-973760e2c18d",
   "metadata": {},
   "outputs": [
    {
     "data": {
      "text/plain": [
       "'python'"
      ]
     },
     "execution_count": 19,
     "metadata": {},
     "output_type": "execute_result"
    }
   ],
   "source": [
    "name3.rstrip()"
   ]
  },
  {
   "cell_type": "code",
   "execution_count": 20,
   "id": "74ad6c7c-1a0b-4840-bec8-dc049e456c1f",
   "metadata": {},
   "outputs": [
    {
     "name": "stdout",
     "output_type": "stream",
     "text": [
      "  python  \n"
     ]
    }
   ],
   "source": [
    "name4 = '  python  '\n",
    "print(name4)"
   ]
  },
  {
   "cell_type": "code",
   "execution_count": 21,
   "id": "5fa91187-6ec9-43cb-ba2c-d6e82de7ac4b",
   "metadata": {},
   "outputs": [
    {
     "data": {
      "text/plain": [
       "'python'"
      ]
     },
     "execution_count": 21,
     "metadata": {},
     "output_type": "execute_result"
    }
   ],
   "source": [
    "name4.strip()"
   ]
  },
  {
   "cell_type": "code",
   "execution_count": null,
   "id": "045999f0-6feb-4881-80ae-08a4cc378c50",
   "metadata": {},
   "outputs": [],
   "source": []
  },
  {
   "cell_type": "code",
   "execution_count": null,
   "id": "b67d72ae-4149-42e5-97e7-2a2d668fe411",
   "metadata": {},
   "outputs": [],
   "source": [
    "# zen of python : Guiding principles"
   ]
  },
  {
   "cell_type": "code",
   "execution_count": 22,
   "id": "ed7d7e2b-e13c-4f84-bc3b-9a872471c854",
   "metadata": {},
   "outputs": [
    {
     "name": "stdout",
     "output_type": "stream",
     "text": [
      "The Zen of Python, by Tim Peters\n",
      "\n",
      "Beautiful is better than ugly.\n",
      "Explicit is better than implicit.\n",
      "Simple is better than complex.\n",
      "Complex is better than complicated.\n",
      "Flat is better than nested.\n",
      "Sparse is better than dense.\n",
      "Readability counts.\n",
      "Special cases aren't special enough to break the rules.\n",
      "Although practicality beats purity.\n",
      "Errors should never pass silently.\n",
      "Unless explicitly silenced.\n",
      "In the face of ambiguity, refuse the temptation to guess.\n",
      "There should be one-- and preferably only one --obvious way to do it.\n",
      "Although that way may not be obvious at first unless you're Dutch.\n",
      "Now is better than never.\n",
      "Although never is often better than *right* now.\n",
      "If the implementation is hard to explain, it's a bad idea.\n",
      "If the implementation is easy to explain, it may be a good idea.\n",
      "Namespaces are one honking great idea -- let's do more of those!\n"
     ]
    }
   ],
   "source": [
    "import this"
   ]
  },
  {
   "cell_type": "code",
   "execution_count": null,
   "id": "2d1792fc-7607-46b4-852c-f50030d614ed",
   "metadata": {},
   "outputs": [],
   "source": []
  },
  {
   "cell_type": "code",
   "execution_count": null,
   "id": "0bf29971-dfc6-42ee-8497-d27c33ed5fb9",
   "metadata": {},
   "outputs": [],
   "source": []
  }
 ],
 "metadata": {
  "kernelspec": {
   "display_name": "Python [conda env:base] *",
   "language": "python",
   "name": "conda-base-py"
  },
  "language_info": {
   "codemirror_mode": {
    "name": "ipython",
    "version": 3
   },
   "file_extension": ".py",
   "mimetype": "text/x-python",
   "name": "python",
   "nbconvert_exporter": "python",
   "pygments_lexer": "ipython3",
   "version": "3.13.5"
  }
 },
 "nbformat": 4,
 "nbformat_minor": 5
}
