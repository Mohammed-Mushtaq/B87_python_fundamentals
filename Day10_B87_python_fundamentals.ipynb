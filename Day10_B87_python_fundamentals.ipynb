{
 "cells": [
  {
   "cell_type": "code",
   "execution_count": null,
   "id": "e1bfa1ec-d16d-4edd-afbe-634a8142210c",
   "metadata": {},
   "outputs": [],
   "source": [
    "def describe_pet(animal_type, pet_name):\n",
    "    \"\"\"Describe the information about pet\"\"\"\n",
    "    print(f\"\\nI have a {animal_type}\")\n",
    "    print(f\"my {animal_type}'s name is {pet_name}\")"
   ]
  },
  {
   "cell_type": "code",
   "execution_count": null,
   "id": "eb461f76-6b36-43a2-9fbe-04d7767186ee",
   "metadata": {},
   "outputs": [],
   "source": [
    "describe_pet('dog', 'bruno')"
   ]
  },
  {
   "cell_type": "code",
   "execution_count": null,
   "id": "62327e8c-b559-4790-8c51-299d5790499c",
   "metadata": {},
   "outputs": [],
   "source": [
    "describe_pet('rex')"
   ]
  },
  {
   "cell_type": "code",
   "execution_count": null,
   "id": "1bf07e42-4037-4828-9a7b-7697dae67e74",
   "metadata": {},
   "outputs": [],
   "source": []
  },
  {
   "cell_type": "code",
   "execution_count": null,
   "id": "11c93727-d5f3-4e3e-983a-2cf118ed1eff",
   "metadata": {},
   "outputs": [],
   "source": [
    "# default arguments: "
   ]
  },
  {
   "cell_type": "code",
   "execution_count": null,
   "id": "6f926a2f-ef1d-4648-a739-e24ad9eceda8",
   "metadata": {},
   "outputs": [],
   "source": [
    "def describe_pet(pet_name ,animal_type = 'dog'):\n",
    "    \"\"\"Describe the information about pet\"\"\"\n",
    "    print(f\"\\nI have a {animal_type}\")\n",
    "    print(f\"my {animal_type}'s name is {pet_name}\")"
   ]
  },
  {
   "cell_type": "code",
   "execution_count": null,
   "id": "89f2c162-7bc3-4ce9-9c28-c7056e5cb577",
   "metadata": {},
   "outputs": [],
   "source": [
    "describe_pet('rex')"
   ]
  },
  {
   "cell_type": "code",
   "execution_count": null,
   "id": "f7029d32-a794-4557-a584-8ad9c6123bb0",
   "metadata": {},
   "outputs": [],
   "source": [
    "describe_pet('bruno', 'cat')"
   ]
  },
  {
   "cell_type": "code",
   "execution_count": null,
   "id": "0944513e-e272-41f1-992d-734e9b8b0d34",
   "metadata": {},
   "outputs": [],
   "source": []
  },
  {
   "cell_type": "code",
   "execution_count": null,
   "id": "9d4b2184-4302-45a8-b75d-d00d16a560a4",
   "metadata": {},
   "outputs": [],
   "source": [
    "Returning a simple value: "
   ]
  },
  {
   "cell_type": "code",
   "execution_count": null,
   "id": "1019f79f-4a45-40e0-9f97-296be5365e7e",
   "metadata": {},
   "outputs": [],
   "source": [
    "# req: Take a firstname and lastname and return it with a neatly formatted name."
   ]
  },
  {
   "cell_type": "code",
   "execution_count": null,
   "id": "691d06ed-edaa-4907-b9bc-a05b70a7b409",
   "metadata": {},
   "outputs": [],
   "source": [
    "def get_formatted_name(firstname, lastname):\n",
    "    \"\"\"return a fullname, neately formatted\"\"\"\n",
    "    fullname = f\"{firstname} {lastname}\"\n",
    "    return fullname.title()"
   ]
  },
  {
   "cell_type": "code",
   "execution_count": null,
   "id": "bb5699dc-577d-44e5-82ef-4d7c39fe09d3",
   "metadata": {},
   "outputs": [],
   "source": [
    "person = get_formatted_name('Mohammed', 'Mushtaq')\n",
    "print(person)"
   ]
  },
  {
   "cell_type": "code",
   "execution_count": null,
   "id": "a61bb443-cf87-4db3-9092-9f61bb030eac",
   "metadata": {},
   "outputs": [],
   "source": []
  },
  {
   "cell_type": "code",
   "execution_count": null,
   "id": "974ebff3-f46f-40b3-8488-6234e2019975",
   "metadata": {},
   "outputs": [],
   "source": [
    "Passing Arbitary no. of arguments: "
   ]
  },
  {
   "cell_type": "code",
   "execution_count": null,
   "id": "753f018b-9955-4cf8-9108-c5bc1fe00585",
   "metadata": {},
   "outputs": [],
   "source": [
    "# req: "
   ]
  },
  {
   "cell_type": "code",
   "execution_count": 11,
   "id": "1f74ff18-6a84-40b7-bdf2-2568a17c4a57",
   "metadata": {},
   "outputs": [],
   "source": [
    "def make_pizza(toppings):\n",
    "    \"\"\"print the list of toppings that has been requested\"\"\"\n",
    "    print(toppings)"
   ]
  },
  {
   "cell_type": "code",
   "execution_count": 12,
   "id": "e91eebe2-f8f5-4275-af54-e625dd2c0b7e",
   "metadata": {},
   "outputs": [
    {
     "name": "stdout",
     "output_type": "stream",
     "text": [
      "olives\n"
     ]
    }
   ],
   "source": [
    "make_pizza('olives')"
   ]
  },
  {
   "cell_type": "code",
   "execution_count": 13,
   "id": "9dfa2b04-d7d0-433b-a434-5fb384d105da",
   "metadata": {},
   "outputs": [
    {
     "ename": "TypeError",
     "evalue": "make_pizza() takes 1 positional argument but 2 were given",
     "output_type": "error",
     "traceback": [
      "\u001b[1;31m---------------------------------------------------------------------------\u001b[0m",
      "\u001b[1;31mTypeError\u001b[0m                                 Traceback (most recent call last)",
      "Cell \u001b[1;32mIn[13], line 1\u001b[0m\n\u001b[1;32m----> 1\u001b[0m make_pizza(\u001b[38;5;124m'\u001b[39m\u001b[38;5;124molives\u001b[39m\u001b[38;5;124m'\u001b[39m, \u001b[38;5;124m'\u001b[39m\u001b[38;5;124mcorn\u001b[39m\u001b[38;5;124m'\u001b[39m)\n",
      "\u001b[1;31mTypeError\u001b[0m: make_pizza() takes 1 positional argument but 2 were given"
     ]
    }
   ],
   "source": [
    "make_pizza('olives', 'corn')"
   ]
  },
  {
   "cell_type": "code",
   "execution_count": 15,
   "id": "95f3b8b7-5eee-40a6-8e76-0fa54e7a30aa",
   "metadata": {},
   "outputs": [
    {
     "ename": "TypeError",
     "evalue": "make_pizza() takes 1 positional argument but 3 were given",
     "output_type": "error",
     "traceback": [
      "\u001b[1;31m---------------------------------------------------------------------------\u001b[0m",
      "\u001b[1;31mTypeError\u001b[0m                                 Traceback (most recent call last)",
      "Cell \u001b[1;32mIn[15], line 1\u001b[0m\n\u001b[1;32m----> 1\u001b[0m make_pizza(\u001b[38;5;124m'\u001b[39m\u001b[38;5;124molives\u001b[39m\u001b[38;5;124m'\u001b[39m, \u001b[38;5;124m'\u001b[39m\u001b[38;5;124mcorn\u001b[39m\u001b[38;5;124m'\u001b[39m, \u001b[38;5;124m'\u001b[39m\u001b[38;5;124monion\u001b[39m\u001b[38;5;124m'\u001b[39m)\n",
      "\u001b[1;31mTypeError\u001b[0m: make_pizza() takes 1 positional argument but 3 were given"
     ]
    }
   ],
   "source": [
    "make_pizza('olives', 'corn', 'onion')"
   ]
  },
  {
   "cell_type": "code",
   "execution_count": null,
   "id": "06919347-dc6b-4760-95b8-f2aea4ebfa23",
   "metadata": {},
   "outputs": [],
   "source": []
  },
  {
   "cell_type": "code",
   "execution_count": 16,
   "id": "0437eb3b-167b-4cc9-90c9-91a69953a686",
   "metadata": {},
   "outputs": [],
   "source": [
    "def make_pizza(*toppings):\n",
    "    \"\"\"print the list of toppings that has been requested\"\"\"\n",
    "    print(toppings)"
   ]
  },
  {
   "cell_type": "code",
   "execution_count": 18,
   "id": "2303f3d6-d9d3-46f6-9348-f829edfe434f",
   "metadata": {},
   "outputs": [
    {
     "name": "stdout",
     "output_type": "stream",
     "text": [
      "('olives', 'corn')\n"
     ]
    }
   ],
   "source": [
    "make_pizza('olives', 'corn')"
   ]
  },
  {
   "cell_type": "code",
   "execution_count": 19,
   "id": "9c49356d-1eb8-4b7c-9fae-124b4d3dc2bd",
   "metadata": {},
   "outputs": [
    {
     "name": "stdout",
     "output_type": "stream",
     "text": [
      "('olives', 'corn', 'onion')\n"
     ]
    }
   ],
   "source": [
    "make_pizza('olives', 'corn', 'onion')"
   ]
  },
  {
   "cell_type": "code",
   "execution_count": null,
   "id": "1af7597f-e7cf-46b7-aa96-6e964f5cca7b",
   "metadata": {},
   "outputs": [],
   "source": []
  },
  {
   "cell_type": "code",
   "execution_count": 26,
   "id": "bb1c8b05-4ce1-4eba-8626-0b9d0a8ef3aa",
   "metadata": {},
   "outputs": [],
   "source": [
    "def make_pizza(*toppings):\n",
    "    \"\"\"Summarize the pizza that i want to make\"\"\"\n",
    "    print(\"Making the pizza with the below toppings:\")\n",
    "    for a in toppings:\n",
    "        print(f\"-{a}\")"
   ]
  },
  {
   "cell_type": "code",
   "execution_count": 27,
   "id": "55aa35a5-f023-4861-a42e-c0734f7b938c",
   "metadata": {},
   "outputs": [
    {
     "name": "stdout",
     "output_type": "stream",
     "text": [
      "Making the pizza with the below toppings:\n",
      "-olives\n",
      "-corn\n",
      "-onion\n"
     ]
    }
   ],
   "source": [
    "make_pizza('olives', 'corn', 'onion')"
   ]
  },
  {
   "cell_type": "code",
   "execution_count": null,
   "id": "18812aab-c541-46cb-ad69-7ac36ce203a7",
   "metadata": {},
   "outputs": [],
   "source": []
  },
  {
   "cell_type": "code",
   "execution_count": null,
   "id": "18f0be18-2dbb-4ef9-8955-2e76892699cf",
   "metadata": {},
   "outputs": [],
   "source": [
    "Mixing positional and arbitary arguments:"
   ]
  },
  {
   "cell_type": "code",
   "execution_count": 28,
   "id": "f32d15a7-b39a-4a34-b55f-6049d8a5a4dd",
   "metadata": {},
   "outputs": [],
   "source": [
    "def make_pizza(size, *toppings):\n",
    "    \"\"\"Summarize the pizza that i want to make\"\"\"\n",
    "    print(f\"\\nMaking a {size} inch pizza with the below toppings:\")\n",
    "    for a in toppings:\n",
    "        print(f\"-{a}\")"
   ]
  },
  {
   "cell_type": "code",
   "execution_count": null,
   "id": "7b25bcfa-8a70-423d-aaf2-0ff1002d44ca",
   "metadata": {},
   "outputs": [],
   "source": [
    "make_pizza(12, "
   ]
  },
  {
   "cell_type": "code",
   "execution_count": null,
   "id": "83a6072e-19c9-4d92-bafb-d7883e91ed6e",
   "metadata": {},
   "outputs": [],
   "source": []
  },
  {
   "cell_type": "code",
   "execution_count": null,
   "id": "b2f4865d-0bfa-4823-8b02-cf62f7b7e506",
   "metadata": {},
   "outputs": [],
   "source": []
  },
  {
   "cell_type": "code",
   "execution_count": null,
   "id": "9a4401fc-2ade-4b65-843b-a5e1e911ac6e",
   "metadata": {},
   "outputs": [],
   "source": []
  },
  {
   "cell_type": "code",
   "execution_count": null,
   "id": "32e3c6c2-7495-4599-86c2-8a077cd9fa28",
   "metadata": {},
   "outputs": [],
   "source": []
  },
  {
   "cell_type": "code",
   "execution_count": null,
   "id": "91775dad-44cd-43fe-a780-ecf15dc8e1e1",
   "metadata": {},
   "outputs": [],
   "source": []
  },
  {
   "cell_type": "code",
   "execution_count": null,
   "id": "d514fa2f-5f83-4381-a869-77f07faee56d",
   "metadata": {},
   "outputs": [],
   "source": []
  }
 ],
 "metadata": {
  "kernelspec": {
   "display_name": "Python [conda env:base] *",
   "language": "python",
   "name": "conda-base-py"
  },
  "language_info": {
   "codemirror_mode": {
    "name": "ipython",
    "version": 3
   },
   "file_extension": ".py",
   "mimetype": "text/x-python",
   "name": "python",
   "nbconvert_exporter": "python",
   "pygments_lexer": "ipython3",
   "version": "3.13.5"
  }
 },
 "nbformat": 4,
 "nbformat_minor": 5
}
