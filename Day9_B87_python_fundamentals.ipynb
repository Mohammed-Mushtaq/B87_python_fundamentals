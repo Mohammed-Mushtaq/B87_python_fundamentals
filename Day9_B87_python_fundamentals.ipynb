{
 "cells": [
  {
   "cell_type": "code",
   "execution_count": null,
   "id": "5c154b81-f55f-4dd3-88ae-e089994b6df9",
   "metadata": {},
   "outputs": [],
   "source": [
    "Introduction to python functions: "
   ]
  },
  {
   "cell_type": "code",
   "execution_count": null,
   "id": "270c98c0-0a82-47a3-b1fd-87d2401e6089",
   "metadata": {},
   "outputs": [],
   "source": [
    "how to define a function: def\n",
    "For giving a function name use small case letters"
   ]
  },
  {
   "cell_type": "code",
   "execution_count": null,
   "id": "14c4182e-7b64-41c7-a391-8b266a3812fe",
   "metadata": {},
   "outputs": [],
   "source": []
  },
  {
   "cell_type": "code",
   "execution_count": 6,
   "id": "7a87bd5c-842f-46ab-b12e-28121bf7a21b",
   "metadata": {},
   "outputs": [],
   "source": [
    "def greet():  #this part is called as defining the function\n",
    "    \"\"\"this function will greet the user\"\"\" # this is doc string\n",
    "    print(\"Hello\")"
   ]
  },
  {
   "cell_type": "code",
   "execution_count": 3,
   "id": "ea2b8e4f-9c30-4f9b-b741-b1e0559a80ec",
   "metadata": {},
   "outputs": [
    {
     "ename": "SyntaxError",
     "evalue": "invalid syntax (3955771048.py, line 1)",
     "output_type": "error",
     "traceback": [
      "\u001b[1;36m  Cell \u001b[1;32mIn[3], line 1\u001b[1;36m\u001b[0m\n\u001b[1;33m    greet():\u001b[0m\n\u001b[1;37m           ^\u001b[0m\n\u001b[1;31mSyntaxError\u001b[0m\u001b[1;31m:\u001b[0m invalid syntax\n"
     ]
    }
   ],
   "source": [
    "greet():"
   ]
  },
  {
   "cell_type": "code",
   "execution_count": 7,
   "id": "a757724c-f97a-4ea5-b83e-0ac99960b9a2",
   "metadata": {},
   "outputs": [
    {
     "name": "stdout",
     "output_type": "stream",
     "text": [
      "Hello\n"
     ]
    }
   ],
   "source": [
    "greet()  # function call"
   ]
  },
  {
   "cell_type": "code",
   "execution_count": 5,
   "id": "07543f4f-4f19-4501-bc9e-3a2ec82ac0ec",
   "metadata": {},
   "outputs": [
    {
     "name": "stdout",
     "output_type": "stream",
     "text": [
      "Hello\n"
     ]
    }
   ],
   "source": [
    "greet()"
   ]
  },
  {
   "cell_type": "code",
   "execution_count": null,
   "id": "b2711785-3b82-4988-b448-827055d4d96f",
   "metadata": {},
   "outputs": [],
   "source": []
  },
  {
   "cell_type": "code",
   "execution_count": 8,
   "id": "01040e6a-b2b2-4de6-bea3-b4510989619e",
   "metadata": {},
   "outputs": [],
   "source": [
    "def greet_user():  #this part is called as defining the function\n",
    "    \"\"\"display a simple greeting\"\"\" # this is doc string\n",
    "    print(\"Hello\")"
   ]
  },
  {
   "cell_type": "code",
   "execution_count": 9,
   "id": "25bd7c3d-2990-4c76-9659-1a5e155bc440",
   "metadata": {},
   "outputs": [
    {
     "name": "stdout",
     "output_type": "stream",
     "text": [
      "Hello\n"
     ]
    }
   ],
   "source": [
    "greet_user()"
   ]
  },
  {
   "cell_type": "code",
   "execution_count": 10,
   "id": "36a6f9ae-2439-483d-8bd8-5b4bc71b3285",
   "metadata": {},
   "outputs": [
    {
     "name": "stdout",
     "output_type": "stream",
     "text": [
      "Hello\n"
     ]
    }
   ],
   "source": [
    "greet_user()"
   ]
  },
  {
   "cell_type": "code",
   "execution_count": null,
   "id": "b5ed4453-fb22-4328-b3a7-87ece32ba8cf",
   "metadata": {},
   "outputs": [],
   "source": []
  },
  {
   "cell_type": "code",
   "execution_count": 12,
   "id": "e9100028-07f4-4cc1-a44c-3603a8629cfa",
   "metadata": {},
   "outputs": [],
   "source": [
    "def greet_user(user_name):  #parameters declaration #params\n",
    "    \"\"\"display a simple greeting\"\"\" # this is doc string\n",
    "    print(f\"Hello, {user_name.title()}\")"
   ]
  },
  {
   "cell_type": "code",
   "execution_count": 13,
   "id": "99e71ff9-d9f2-48bb-be1f-5c3994bf055e",
   "metadata": {},
   "outputs": [
    {
     "name": "stdout",
     "output_type": "stream",
     "text": [
      "Hello, Mushtaq\n"
     ]
    }
   ],
   "source": [
    "greet_user('Mushtaq')  #arguments passing  #args"
   ]
  },
  {
   "cell_type": "code",
   "execution_count": 14,
   "id": "dce71f54-9ee1-4958-9b94-cb1fb42f1e0d",
   "metadata": {},
   "outputs": [
    {
     "name": "stdout",
     "output_type": "stream",
     "text": [
      "Hello, Mahendra\n"
     ]
    }
   ],
   "source": [
    "greet_user('Mahendra')"
   ]
  },
  {
   "cell_type": "code",
   "execution_count": null,
   "id": "2a52f625-9ca4-4d55-8be6-a4f004622ae7",
   "metadata": {},
   "outputs": [],
   "source": []
  },
  {
   "cell_type": "code",
   "execution_count": null,
   "id": "de117e01-9eea-4c09-b433-fea25a99466f",
   "metadata": {},
   "outputs": [],
   "source": [
    "Types of arguments:\n",
    "    1. Positional arguments\n",
    "    2. Keyword arguments\n",
    "    3. Default arguments"
   ]
  },
  {
   "cell_type": "code",
   "execution_count": null,
   "id": "398d337c-f17b-4f89-b825-dba2beb698ba",
   "metadata": {},
   "outputs": [],
   "source": []
  },
  {
   "cell_type": "code",
   "execution_count": null,
   "id": "c384bb97-3f56-4636-9a54-efad2118a66c",
   "metadata": {},
   "outputs": [],
   "source": [
    "# Defining the function\n",
    "# req: Define a function with name describe_pet which takes two parameters: pet_name and animal_type"
   ]
  },
  {
   "cell_type": "code",
   "execution_count": 17,
   "id": "bd05989f-7fed-4128-aedb-5f9e834feda7",
   "metadata": {},
   "outputs": [],
   "source": [
    "def describe_pet(animal_type, pet_name):\n",
    "    \"\"\"Describe the information about pet\"\"\"\n",
    "    print(f\"\\nI have a {animal_type}\")\n",
    "    print(f\"my {animal_type}'s name is {pet_name}\")"
   ]
  },
  {
   "cell_type": "code",
   "execution_count": 18,
   "id": "b2161634-2beb-49f7-bbf7-78afa4bac06f",
   "metadata": {},
   "outputs": [
    {
     "name": "stdout",
     "output_type": "stream",
     "text": [
      "\n",
      "I have a dog\n",
      "my dog's name is bruno\n"
     ]
    }
   ],
   "source": [
    "describe_pet('dog', 'bruno')"
   ]
  },
  {
   "cell_type": "code",
   "execution_count": 19,
   "id": "8045ee7c-1787-46c8-a8fd-5e34bb2faff6",
   "metadata": {},
   "outputs": [
    {
     "name": "stdout",
     "output_type": "stream",
     "text": [
      "\n",
      "I have a cat\n",
      "my cat's name is rex\n"
     ]
    }
   ],
   "source": [
    "describe_pet('cat', 'rex')"
   ]
  },
  {
   "cell_type": "code",
   "execution_count": 20,
   "id": "812f1571-fa27-4b65-b469-addcf086594d",
   "metadata": {},
   "outputs": [
    {
     "name": "stdout",
     "output_type": "stream",
     "text": [
      "\n",
      "I have a sweety\n",
      "my sweety's name is parrot\n"
     ]
    }
   ],
   "source": [
    "describe_pet('sweety', 'parrot')  # parrot and sweety"
   ]
  },
  {
   "cell_type": "code",
   "execution_count": 21,
   "id": "943f7594-5ecf-46f3-ac9b-8280bf1f4904",
   "metadata": {},
   "outputs": [
    {
     "name": "stdout",
     "output_type": "stream",
     "text": [
      "\n",
      "I have a parrot\n",
      "my parrot's name is sweety\n"
     ]
    }
   ],
   "source": [
    "describe_pet('parrot', 'sweety')  # positional arguments"
   ]
  },
  {
   "cell_type": "code",
   "execution_count": 22,
   "id": "f7382da2-908a-4cfb-8fbc-22f071ad9165",
   "metadata": {},
   "outputs": [
    {
     "name": "stdout",
     "output_type": "stream",
     "text": [
      "\n",
      "I have a parrot\n",
      "my parrot's name is sweety\n"
     ]
    }
   ],
   "source": [
    "describe_pet(pet_name = 'sweety', animal_type = 'parrot')  #keyword arguments"
   ]
  },
  {
   "cell_type": "code",
   "execution_count": null,
   "id": "8eaa26dd-aeb7-4533-84b7-7b42e5ae8c84",
   "metadata": {},
   "outputs": [],
   "source": []
  },
  {
   "cell_type": "code",
   "execution_count": null,
   "id": "df99e353-1695-4b75-819c-6fcf5e131cee",
   "metadata": {},
   "outputs": [],
   "source": []
  },
  {
   "cell_type": "code",
   "execution_count": null,
   "id": "b18c68f0-59be-46bc-a016-b04dca233109",
   "metadata": {},
   "outputs": [],
   "source": []
  },
  {
   "cell_type": "code",
   "execution_count": null,
   "id": "02c3d9f8-6690-455a-9e42-3bd0897a14b7",
   "metadata": {},
   "outputs": [],
   "source": []
  }
 ],
 "metadata": {
  "kernelspec": {
   "display_name": "Python [conda env:base] *",
   "language": "python",
   "name": "conda-base-py"
  },
  "language_info": {
   "codemirror_mode": {
    "name": "ipython",
    "version": 3
   },
   "file_extension": ".py",
   "mimetype": "text/x-python",
   "name": "python",
   "nbconvert_exporter": "python",
   "pygments_lexer": "ipython3",
   "version": "3.13.5"
  }
 },
 "nbformat": 4,
 "nbformat_minor": 5
}
