{
 "cells": [
  {
   "cell_type": "code",
   "execution_count": 2,
   "id": "14aa1462-3f05-42aa-9728-99281fbaf0a7",
   "metadata": {},
   "outputs": [
    {
     "name": "stdout",
     "output_type": "stream",
     "text": [
      "Hello all welcome to the python programming session\n"
     ]
    }
   ],
   "source": [
    "print(\"Hello all welcome to the python programming session\") # this is the input cell..."
   ]
  },
  {
   "cell_type": "code",
   "execution_count": null,
   "id": "453c54dc-928d-4cc3-917b-6b6604dfe0ec",
   "metadata": {},
   "outputs": [],
   "source": [
    "print(\"Hello world!!\") "
   ]
  }
 ],
 "metadata": {
  "kernelspec": {
   "display_name": "Python [conda env:base] *",
   "language": "python",
   "name": "conda-base-py"
  },
  "language_info": {
   "codemirror_mode": {
    "name": "ipython",
    "version": 3
   },
   "file_extension": ".py",
   "mimetype": "text/x-python",
   "name": "python",
   "nbconvert_exporter": "python",
   "pygments_lexer": "ipython3",
   "version": "3.13.5"
  }
 },
 "nbformat": 4,
 "nbformat_minor": 5
}
