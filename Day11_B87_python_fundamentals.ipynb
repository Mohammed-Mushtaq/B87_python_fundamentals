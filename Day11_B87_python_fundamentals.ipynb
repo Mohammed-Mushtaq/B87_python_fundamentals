{
 "cells": [
  {
   "cell_type": "code",
   "execution_count": null,
   "id": "9ab4aed9-ddd4-4522-835f-9338f502f510",
   "metadata": {},
   "outputs": [],
   "source": [
    "Introduction to python class: "
   ]
  },
  {
   "cell_type": "code",
   "execution_count": null,
   "id": "d4544a0b-fac0-4ea4-923b-8da065141bd7",
   "metadata": {},
   "outputs": [],
   "source": [
    "class ====> class is a high level blue print of the program\n",
    "methods ====> A function written inside the class is called as method\n",
    "attributes ====> A variable is written inside a class called as an attribute\n",
    "objects /instances ====> is an approach by using which we can be able to access the class methods\n",
    "self =====> self is temporary placeholder for an object.\n",
    "init ====> it a special method / magical method"
   ]
  },
  {
   "cell_type": "code",
   "execution_count": null,
   "id": "230ffc0e-9f67-4717-a338-eb7d7b87149c",
   "metadata": {},
   "outputs": [],
   "source": [
    "What are OOPS - Object oriented programming:"
   ]
  },
  {
   "cell_type": "code",
   "execution_count": null,
   "id": "42ff37bb-373d-48ca-88a7-4ccfbb9b50a0",
   "metadata": {},
   "outputs": [],
   "source": []
  },
  {
   "cell_type": "code",
   "execution_count": null,
   "id": "6ce830e8-07ec-4160-b966-55c8194763fa",
   "metadata": {},
   "outputs": [],
   "source": [
    "# class example: req: design a dog class with it's functionalities."
   ]
  },
  {
   "cell_type": "code",
   "execution_count": 5,
   "id": "836b4447-145f-460e-8b77-dc72aa8d3296",
   "metadata": {},
   "outputs": [],
   "source": [
    "class Dog:  # this is a class declaration\n",
    "    \"\"\"A simple attempt to model the Dog\"\"\"\n",
    "\n",
    "    def __init__(self, name, age):  # this is a method\n",
    "        \"\"\"initialize name and age attributes\"\"\"\n",
    "        self.name = name  # these are attributes  => my_dog.name = 'bruno'\n",
    "        self.age = age\n",
    "\n",
    "    def sit(self): # this is a method\n",
    "        \"\"\"Simulate a dog sitting in response to a command\"\"\"\n",
    "        print(f\"{self.name} is now sitting\")\n",
    "\n",
    "    def roll_over(self):  # this is method\n",
    "        \"\"\"simulate rolling over in response to the command\"\"\"\n",
    "        print(f\"{self.name} rolled over\")"
   ]
  },
  {
   "cell_type": "code",
   "execution_count": 6,
   "id": "0ae18c89-58b6-45bb-915e-68978a80f69d",
   "metadata": {},
   "outputs": [],
   "source": [
    "my_dog = Dog('bruno', 6)"
   ]
  },
  {
   "cell_type": "code",
   "execution_count": 7,
   "id": "e36e574c-4041-4f7f-8c9b-f9962a1a17f3",
   "metadata": {},
   "outputs": [
    {
     "name": "stdout",
     "output_type": "stream",
     "text": [
      "bruno is now sitting\n"
     ]
    }
   ],
   "source": [
    "my_dog.sit()"
   ]
  },
  {
   "cell_type": "code",
   "execution_count": 8,
   "id": "d45f1de4-8feb-4683-b11a-9749fa7dc9fb",
   "metadata": {},
   "outputs": [
    {
     "name": "stdout",
     "output_type": "stream",
     "text": [
      "bruno rolled over\n"
     ]
    }
   ],
   "source": [
    "my_dog.roll_over()"
   ]
  },
  {
   "cell_type": "code",
   "execution_count": null,
   "id": "a4cadcad-24dd-4739-8a72-f5c4b7e26820",
   "metadata": {},
   "outputs": [],
   "source": []
  },
  {
   "cell_type": "code",
   "execution_count": 9,
   "id": "c9ca19c3-efcc-48d4-b838-c50a288c74fd",
   "metadata": {},
   "outputs": [],
   "source": [
    "test = Dog('rex', 3)"
   ]
  },
  {
   "cell_type": "code",
   "execution_count": 10,
   "id": "eb59ff1a-59f8-4ba3-81b4-4cd0fd718956",
   "metadata": {},
   "outputs": [
    {
     "name": "stdout",
     "output_type": "stream",
     "text": [
      "rex is now sitting\n"
     ]
    }
   ],
   "source": [
    "test.sit()"
   ]
  },
  {
   "cell_type": "code",
   "execution_count": 11,
   "id": "83281dd0-1e0d-4162-8125-29756d88b8b0",
   "metadata": {},
   "outputs": [
    {
     "name": "stdout",
     "output_type": "stream",
     "text": [
      "rex rolled over\n"
     ]
    }
   ],
   "source": [
    "test.roll_over()"
   ]
  },
  {
   "cell_type": "code",
   "execution_count": null,
   "id": "9df476f6-9eb7-44bc-9d78-8824b6b49aeb",
   "metadata": {},
   "outputs": [],
   "source": []
  },
  {
   "cell_type": "code",
   "execution_count": null,
   "id": "4fea266a-8d83-4db4-b722-017865bc6fb2",
   "metadata": {},
   "outputs": [],
   "source": [
    "class Car:  # this is a class declaration\n",
    "    \"\"\"A simple attempt to represent a car\"\"\"\n",
    "\n",
    "    def __init__(self, make, model, year):  # this is a method\n",
    "        \"\"\"initialize the attributes to describe the car\"\"\"\n",
    "        self.make = make  # these are attributes  => my_dog.name = 'bruno'\n",
    "        self.model = model\n",
    "        self.year = year\n",
    "\n",
    "    def get_descriptive_name(self): # this is a method\n",
    "        \"\"\"return a neately formatted descriptive name\"\"\"\n",
    "        long_name = f\"{self.make} {self.model} {self.year}\"\n",
    "        return long_name.title()\n"
   ]
  },
  {
   "cell_type": "code",
   "execution_count": null,
   "id": "4656832a-1360-4b5a-aa2e-e41e4b04b58d",
   "metadata": {},
   "outputs": [],
   "source": []
  },
  {
   "cell_type": "code",
   "execution_count": null,
   "id": "eec9f629-a5ea-4db8-a166-2d2899740b26",
   "metadata": {},
   "outputs": [],
   "source": []
  }
 ],
 "metadata": {
  "kernelspec": {
   "display_name": "Python [conda env:base] *",
   "language": "python",
   "name": "conda-base-py"
  },
  "language_info": {
   "codemirror_mode": {
    "name": "ipython",
    "version": 3
   },
   "file_extension": ".py",
   "mimetype": "text/x-python",
   "name": "python",
   "nbconvert_exporter": "python",
   "pygments_lexer": "ipython3",
   "version": "3.13.5"
  }
 },
 "nbformat": 4,
 "nbformat_minor": 5
}
