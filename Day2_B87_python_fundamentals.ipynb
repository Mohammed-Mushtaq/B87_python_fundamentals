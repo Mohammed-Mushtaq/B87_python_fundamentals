{
 "cells": [
  {
   "cell_type": "code",
   "execution_count": null,
   "id": "804da82e-2321-43db-bbbf-8068d27b76f8",
   "metadata": {},
   "outputs": [],
   "source": [
    "Introduction to python programming:"
   ]
  },
  {
   "cell_type": "code",
   "execution_count": null,
   "id": "1dc62d2a-afd0-4111-9afe-fa0fe23046b2",
   "metadata": {},
   "outputs": [],
   "source": [
    "Understanding the variables in python:"
   ]
  },
  {
   "cell_type": "code",
   "execution_count": 4,
   "id": "0d247b72-20ff-4b2e-b3bf-42585bd87f5a",
   "metadata": {},
   "outputs": [
    {
     "name": "stdout",
     "output_type": "stream",
     "text": [
      "5\n"
     ]
    }
   ],
   "source": [
    "x = 2\n",
    "y = 3\n",
    "z = x + y\n",
    "print(z)"
   ]
  },
  {
   "cell_type": "code",
   "execution_count": null,
   "id": "db407228-b8e7-4196-ae23-b418c620f7c8",
   "metadata": {},
   "outputs": [],
   "source": []
  },
  {
   "cell_type": "code",
   "execution_count": null,
   "id": "adf7639b-4b4d-4b69-8318-befceff1eaba",
   "metadata": {},
   "outputs": [],
   "source": [
    "Rules for declaring the variables in python:"
   ]
  },
  {
   "cell_type": "code",
   "execution_count": null,
   "id": "37916e5a-7c6e-4800-884b-965dfb62cfa4",
   "metadata": {},
   "outputs": [],
   "source": [
    "Rule NO 1: No Namespaces while declaring the variable names in python"
   ]
  },
  {
   "cell_type": "code",
   "execution_count": 5,
   "id": "ca926488-08f1-4526-96fb-49c9b38a4aaa",
   "metadata": {},
   "outputs": [
    {
     "ename": "SyntaxError",
     "evalue": "invalid syntax (2642777287.py, line 1)",
     "output_type": "error",
     "traceback": [
      "\u001b[1;36m  Cell \u001b[1;32mIn[5], line 1\u001b[1;36m\u001b[0m\n\u001b[1;33m    first name = 'Faiyaz'\u001b[0m\n\u001b[1;37m          ^\u001b[0m\n\u001b[1;31mSyntaxError\u001b[0m\u001b[1;31m:\u001b[0m invalid syntax\n"
     ]
    }
   ],
   "source": [
    "first name = 'Faiyaz'\n",
    "print(first name)"
   ]
  },
  {
   "cell_type": "code",
   "execution_count": 6,
   "id": "dbd47103-0acf-4a15-a24d-cbc1c189c037",
   "metadata": {},
   "outputs": [
    {
     "name": "stdout",
     "output_type": "stream",
     "text": [
      "Faiyaz\n"
     ]
    }
   ],
   "source": [
    "firstname = 'Faiyaz'\n",
    "print(firstname)"
   ]
  },
  {
   "cell_type": "code",
   "execution_count": null,
   "id": "5c94f108-7d34-4118-ae29-fb1f41c18143",
   "metadata": {},
   "outputs": [],
   "source": []
  },
  {
   "cell_type": "code",
   "execution_count": null,
   "id": "9743c6bf-2252-4aec-a232-326d45d34de0",
   "metadata": {},
   "outputs": [],
   "source": [
    "Rule No 2: A variable name should not start with a number **"
   ]
  },
  {
   "cell_type": "code",
   "execution_count": 7,
   "id": "7b94315c-9cfb-4c9a-b4bb-674f828541ad",
   "metadata": {},
   "outputs": [
    {
     "ename": "SyntaxError",
     "evalue": "invalid decimal literal (1410008898.py, line 1)",
     "output_type": "error",
     "traceback": [
      "\u001b[1;36m  Cell \u001b[1;32mIn[7], line 1\u001b[1;36m\u001b[0m\n\u001b[1;33m    1name = 'karthik'\u001b[0m\n\u001b[1;37m    ^\u001b[0m\n\u001b[1;31mSyntaxError\u001b[0m\u001b[1;31m:\u001b[0m invalid decimal literal\n"
     ]
    }
   ],
   "source": [
    "1name = 'karthik'\n",
    "print(1name)"
   ]
  },
  {
   "cell_type": "code",
   "execution_count": 8,
   "id": "074d46fb-ccae-45fb-bd66-76b0e832d813",
   "metadata": {},
   "outputs": [
    {
     "name": "stdout",
     "output_type": "stream",
     "text": [
      "karthik\n"
     ]
    }
   ],
   "source": [
    "name1 = 'karthik'\n",
    "print(name1)"
   ]
  },
  {
   "cell_type": "code",
   "execution_count": null,
   "id": "629a02bf-cdfe-4104-9c80-bcd8f1a5b26b",
   "metadata": {},
   "outputs": [],
   "source": []
  },
  {
   "cell_type": "code",
   "execution_count": null,
   "id": "a76f2aea-5c12-4f27-a2e2-ab8be5274acc",
   "metadata": {},
   "outputs": [],
   "source": [
    "Rule No 3: A variable name should not contain any special characters\n",
    "      @ # $ % ^ & *"
   ]
  },
  {
   "cell_type": "code",
   "execution_count": 9,
   "id": "869c715c-1bab-4eb4-8eb4-5b09312d6cbd",
   "metadata": {},
   "outputs": [
    {
     "ename": "SyntaxError",
     "evalue": "invalid syntax (367995000.py, line 1)",
     "output_type": "error",
     "traceback": [
      "\u001b[1;36m  Cell \u001b[1;32mIn[9], line 1\u001b[1;36m\u001b[0m\n\u001b[1;33m    name@ = \"deepak\"\u001b[0m\n\u001b[1;37m          ^\u001b[0m\n\u001b[1;31mSyntaxError\u001b[0m\u001b[1;31m:\u001b[0m invalid syntax\n"
     ]
    }
   ],
   "source": [
    "name@ = \"deepak\"\n",
    "print(name@)"
   ]
  },
  {
   "cell_type": "code",
   "execution_count": null,
   "id": "13480c05-9167-4234-be88-26fb78115052",
   "metadata": {},
   "outputs": [],
   "source": []
  },
  {
   "cell_type": "code",
   "execution_count": null,
   "id": "996b2f33-baf4-44fe-868a-ba100d5e61a7",
   "metadata": {},
   "outputs": [],
   "source": [
    "Introduction to datatypes in python:"
   ]
  },
  {
   "cell_type": "code",
   "execution_count": null,
   "id": "59406ac5-a1ae-4715-bbb3-bfb94048dd8c",
   "metadata": {},
   "outputs": [],
   "source": [
    "1. strings ===> str\n",
    "Numbers ===> integers ---> int and floats ===> float (decimals ===> 0.1,0.2)\n",
    "lists ===> list\n",
    "tuples ===> tuple\n",
    "Dictionaries ===> dict"
   ]
  },
  {
   "cell_type": "code",
   "execution_count": null,
   "id": "97d235ff-64d2-4c80-8723-0e2e3a565bca",
   "metadata": {},
   "outputs": [],
   "source": [
    "Note : python is a case sensitive programming language."
   ]
  },
  {
   "cell_type": "code",
   "execution_count": null,
   "id": "8257eebb-a0fa-4a7f-a6c6-cce497f86d6d",
   "metadata": {},
   "outputs": [],
   "source": []
  },
  {
   "cell_type": "code",
   "execution_count": null,
   "id": "42ed6fdc-b320-4867-b224-03fd025db96e",
   "metadata": {},
   "outputs": [],
   "source": [
    "Classification of datatypes in python:"
   ]
  },
  {
   "cell_type": "code",
   "execution_count": null,
   "id": "b59a6698-14ab-425c-8eb1-24a23602b963",
   "metadata": {},
   "outputs": [],
   "source": [
    "Broadly datatypes are classified in to 2 different categories :\n",
    "    1. mutable datatypes ===> which we can edit / alter ====> flexible in nature\n",
    "    2. immutable datatypes ===> which we cannot be able to edit ===> these are fixed in nature"
   ]
  },
  {
   "cell_type": "code",
   "execution_count": null,
   "id": "3bc91a26-81c3-411c-9778-7efef625d0ca",
   "metadata": {},
   "outputs": [],
   "source": []
  },
  {
   "cell_type": "code",
   "execution_count": null,
   "id": "c752a596-35a9-47e4-9b8e-85145698293f",
   "metadata": {},
   "outputs": [],
   "source": [
    "introduction to string datatype :\n",
    "definition : A string is a series of characters declared in quotes.\n",
    "classification: It is classified as an immutable datatype\n",
    "how to declare the string datatype ====> 2 approaches\n",
    "1. single quote\n",
    "2. double quote"
   ]
  },
  {
   "cell_type": "code",
   "execution_count": 10,
   "id": "d582e76c-4707-4757-8e7a-411d59174b82",
   "metadata": {},
   "outputs": [
    {
     "name": "stdout",
     "output_type": "stream",
     "text": [
      "joseph\n"
     ]
    }
   ],
   "source": [
    "name = 'joseph' # single quote\n",
    "print(name)"
   ]
  },
  {
   "cell_type": "code",
   "execution_count": 11,
   "id": "ab666004-c727-459a-a9ab-8ef669008440",
   "metadata": {},
   "outputs": [
    {
     "name": "stdout",
     "output_type": "stream",
     "text": [
      "kavya\n"
     ]
    }
   ],
   "source": [
    "name2 = \"kavya\" # double quote\n",
    "print(name2)"
   ]
  },
  {
   "cell_type": "code",
   "execution_count": null,
   "id": "5cdb0ad8-797e-436f-8649-d8bb0f6a277a",
   "metadata": {},
   "outputs": [],
   "source": []
  },
  {
   "cell_type": "code",
   "execution_count": null,
   "id": "2fb3cc26-1efc-4a25-9b2f-aa6b5f97daeb",
   "metadata": {},
   "outputs": [],
   "source": [
    "introduction to string methods :"
   ]
  },
  {
   "cell_type": "code",
   "execution_count": 12,
   "id": "3f9a7626-0ed8-4340-9b40-c4837ee6d840",
   "metadata": {},
   "outputs": [
    {
     "data": {
      "text/plain": [
       "str"
      ]
     },
     "execution_count": 12,
     "metadata": {},
     "output_type": "execute_result"
    }
   ],
   "source": [
    "type(name)"
   ]
  },
  {
   "cell_type": "code",
   "execution_count": 13,
   "id": "f90d7db7-4895-4a33-ad14-2c80a93f9cb6",
   "metadata": {},
   "outputs": [
    {
     "data": {
      "text/plain": [
       "str"
      ]
     },
     "execution_count": 13,
     "metadata": {},
     "output_type": "execute_result"
    }
   ],
   "source": [
    "type(name2)"
   ]
  },
  {
   "cell_type": "code",
   "execution_count": null,
   "id": "ebcbbe06-937c-44c5-89ed-d971d18bf4dd",
   "metadata": {},
   "outputs": [],
   "source": []
  },
  {
   "cell_type": "code",
   "execution_count": 14,
   "id": "992a86bb-ae52-4c23-9d1f-b458aa58a50d",
   "metadata": {},
   "outputs": [
    {
     "name": "stdout",
     "output_type": "stream",
     "text": [
      "zeba ansari\n"
     ]
    }
   ],
   "source": [
    "fullname = 'zeba ansari'\n",
    "print(fullname)"
   ]
  },
  {
   "cell_type": "code",
   "execution_count": null,
   "id": "cf315110-d596-4628-9a3a-94255784e917",
   "metadata": {},
   "outputs": [],
   "source": [
    "# req: to correct the format"
   ]
  },
  {
   "cell_type": "code",
   "execution_count": 15,
   "id": "1e5513e6-229a-4352-b55c-436bd2918d1e",
   "metadata": {},
   "outputs": [
    {
     "name": "stdout",
     "output_type": "stream",
     "text": [
      "Zeba Ansari\n"
     ]
    }
   ],
   "source": [
    "print(fullname.title())"
   ]
  },
  {
   "cell_type": "code",
   "execution_count": null,
   "id": "707fc35c-643c-4ae2-9692-e5828f96f8ef",
   "metadata": {},
   "outputs": [],
   "source": []
  }
 ],
 "metadata": {
  "kernelspec": {
   "display_name": "Python [conda env:base] *",
   "language": "python",
   "name": "conda-base-py"
  },
  "language_info": {
   "codemirror_mode": {
    "name": "ipython",
    "version": 3
   },
   "file_extension": ".py",
   "mimetype": "text/x-python",
   "name": "python",
   "nbconvert_exporter": "python",
   "pygments_lexer": "ipython3",
   "version": "3.13.5"
  }
 },
 "nbformat": 4,
 "nbformat_minor": 5
}
