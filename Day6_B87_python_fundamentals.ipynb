{
 "cells": [
  {
   "cell_type": "code",
   "execution_count": null,
   "id": "56503f9b-a84d-4862-9b67-4a7e4dfe86b8",
   "metadata": {},
   "outputs": [],
   "source": [
    "Introduction to Dictionaries datatype: \n",
    "\n",
    "Definition: A dictionary is a combination of key, value pairs. **\n",
    "Classification: It is classified as a mutable datatype.\n",
    "How to define the dictionary: {} # curly brackets / Flower brackets."
   ]
  },
  {
   "cell_type": "code",
   "execution_count": null,
   "id": "7a6261c0-889a-40ed-bee2-f1fea8285c60",
   "metadata": {},
   "outputs": [],
   "source": []
  },
  {
   "cell_type": "code",
   "execution_count": null,
   "id": "5a261daa-d07b-41a4-af3c-820b3cfc73fd",
   "metadata": {},
   "outputs": [],
   "source": [
    "# req: I want to design a alien game."
   ]
  },
  {
   "cell_type": "code",
   "execution_count": 1,
   "id": "5d694d34-ae7a-43da-be50-cde26fd45d1d",
   "metadata": {},
   "outputs": [],
   "source": [
    "alien = {'color': 'green', 'points': 5}"
   ]
  },
  {
   "cell_type": "code",
   "execution_count": 2,
   "id": "9530f3ea-00d3-4623-b1fa-dd307453ca0f",
   "metadata": {},
   "outputs": [
    {
     "name": "stdout",
     "output_type": "stream",
     "text": [
      "{'color': 'green', 'points': 5}\n"
     ]
    }
   ],
   "source": [
    "print(alien)"
   ]
  },
  {
   "cell_type": "code",
   "execution_count": 3,
   "id": "143de7a3-feb6-43b6-9b8a-9646bd063f25",
   "metadata": {},
   "outputs": [
    {
     "data": {
      "text/plain": [
       "dict"
      ]
     },
     "execution_count": 3,
     "metadata": {},
     "output_type": "execute_result"
    }
   ],
   "source": [
    "type(alien)"
   ]
  },
  {
   "cell_type": "code",
   "execution_count": null,
   "id": "8f8d6574-872c-44c1-b55d-fc4713e234e3",
   "metadata": {},
   "outputs": [],
   "source": [
    "# Dictionary is written as dict"
   ]
  },
  {
   "cell_type": "code",
   "execution_count": null,
   "id": "33f8d5e1-919d-4478-8f5d-c983259670f4",
   "metadata": {},
   "outputs": [],
   "source": []
  },
  {
   "cell_type": "code",
   "execution_count": null,
   "id": "58d3cbed-a9b9-4b5b-a270-36b8c5db2d79",
   "metadata": {},
   "outputs": [],
   "source": [
    "# req: i want to add the start_position of the alien game."
   ]
  },
  {
   "cell_type": "code",
   "execution_count": 4,
   "id": "3522a805-899b-443d-b271-030922cf5fe7",
   "metadata": {},
   "outputs": [],
   "source": [
    "alien['start_position'] = 'level'"
   ]
  },
  {
   "cell_type": "code",
   "execution_count": 5,
   "id": "c8af07cc-b786-4982-a926-58b74e369f04",
   "metadata": {},
   "outputs": [
    {
     "name": "stdout",
     "output_type": "stream",
     "text": [
      "{'color': 'green', 'points': 5, 'start_position': 'level'}\n"
     ]
    }
   ],
   "source": [
    "print(alien)"
   ]
  },
  {
   "cell_type": "code",
   "execution_count": null,
   "id": "f9b7b688-71a5-4fb5-89be-9b6bebf09d00",
   "metadata": {},
   "outputs": [],
   "source": [
    "note: In the dictionary keys will be acting as indexes."
   ]
  },
  {
   "cell_type": "code",
   "execution_count": null,
   "id": "26a087c3-6cc0-4f91-9cf2-e4f48e696f0d",
   "metadata": {},
   "outputs": [],
   "source": []
  },
  {
   "cell_type": "code",
   "execution_count": null,
   "id": "ef26822d-5db1-45af-8399-1116d1c531a5",
   "metadata": {},
   "outputs": [],
   "source": [
    "# req: I want to know the color of the alien..?"
   ]
  },
  {
   "cell_type": "code",
   "execution_count": 6,
   "id": "9b69d56b-514b-47d0-a058-01ea2cdd1312",
   "metadata": {},
   "outputs": [
    {
     "ename": "KeyError",
     "evalue": "0",
     "output_type": "error",
     "traceback": [
      "\u001b[1;31m---------------------------------------------------------------------------\u001b[0m",
      "\u001b[1;31mKeyError\u001b[0m                                  Traceback (most recent call last)",
      "Cell \u001b[1;32mIn[6], line 1\u001b[0m\n\u001b[1;32m----> 1\u001b[0m \u001b[38;5;28mprint\u001b[39m(alien[\u001b[38;5;241m0\u001b[39m])\n",
      "\u001b[1;31mKeyError\u001b[0m: 0"
     ]
    }
   ],
   "source": [
    "print(alien[0])"
   ]
  },
  {
   "cell_type": "code",
   "execution_count": 7,
   "id": "fbc68d2d-0660-4f8e-bd0e-065ca08749c9",
   "metadata": {},
   "outputs": [
    {
     "name": "stdout",
     "output_type": "stream",
     "text": [
      "green\n"
     ]
    }
   ],
   "source": [
    "print(alien['color'])"
   ]
  },
  {
   "cell_type": "code",
   "execution_count": null,
   "id": "ec1864cf-71ab-4482-aa8e-35c75d1fc214",
   "metadata": {},
   "outputs": [],
   "source": []
  },
  {
   "cell_type": "code",
   "execution_count": null,
   "id": "ec8ae66c-3fa9-4615-9695-14e17772b9c3",
   "metadata": {},
   "outputs": [],
   "source": [
    "# req: how to modify the key value pairs in the dictionary..."
   ]
  },
  {
   "cell_type": "code",
   "execution_count": null,
   "id": "1a4f0df1-d420-41a9-94e0-09924e041ac8",
   "metadata": {},
   "outputs": [],
   "source": [
    "# req: i want to modify the color of the alien from green to red."
   ]
  },
  {
   "cell_type": "code",
   "execution_count": 8,
   "id": "993a6d78-f503-41b1-87b4-790ebf554f95",
   "metadata": {},
   "outputs": [],
   "source": [
    "alien['color'] = 'red'"
   ]
  },
  {
   "cell_type": "code",
   "execution_count": 9,
   "id": "34ccd47a-e3c7-426c-8105-d86b6e6723ec",
   "metadata": {},
   "outputs": [
    {
     "name": "stdout",
     "output_type": "stream",
     "text": [
      "{'color': 'red', 'points': 5, 'start_position': 'level'}\n"
     ]
    }
   ],
   "source": [
    "print(alien)"
   ]
  },
  {
   "cell_type": "code",
   "execution_count": null,
   "id": "71e9f481-62ad-432e-82c6-c7f6ec328506",
   "metadata": {},
   "outputs": [],
   "source": []
  },
  {
   "cell_type": "code",
   "execution_count": null,
   "id": "b48230fa-085c-4700-b997-b05198ea6cae",
   "metadata": {},
   "outputs": [],
   "source": [
    "# req: i want you to create the facebook user account."
   ]
  },
  {
   "cell_type": "code",
   "execution_count": 11,
   "id": "66449586-75cb-45b5-be44-035893a9a63f",
   "metadata": {},
   "outputs": [],
   "source": [
    "user_account = {'firstname': 'code', 'lastname':'training', 'username': 'codetrainingacademy', 'dob': '01-01-2020', 'pwd': '54321'}"
   ]
  },
  {
   "cell_type": "code",
   "execution_count": 12,
   "id": "2d57b1e2-98be-458c-8a0a-76b1c206ccfa",
   "metadata": {},
   "outputs": [
    {
     "name": "stdout",
     "output_type": "stream",
     "text": [
      "{'firstname': 'code', 'lastname': 'training', 'username': 'codetrainingacademy', 'dob': '01-01-2020', 'pwd': '54321'}\n"
     ]
    }
   ],
   "source": [
    "print(user_account)"
   ]
  },
  {
   "cell_type": "code",
   "execution_count": null,
   "id": "bb70b449-dc81-48ad-b7ca-2652039d369a",
   "metadata": {},
   "outputs": [],
   "source": []
  },
  {
   "cell_type": "code",
   "execution_count": null,
   "id": "640ed8a0-f7b3-485f-8d7b-3e5592e47b81",
   "metadata": {},
   "outputs": [],
   "source": [
    "# how to delete the key value pairs?"
   ]
  },
  {
   "cell_type": "code",
   "execution_count": null,
   "id": "e077d074-40b4-4882-b43f-270229b40c88",
   "metadata": {},
   "outputs": [],
   "source": [
    "# req: i want to delete the lastname"
   ]
  },
  {
   "cell_type": "code",
   "execution_count": 13,
   "id": "e1b86e11-2f61-48d5-80eb-37269599c5c8",
   "metadata": {},
   "outputs": [],
   "source": [
    "del user_account['lastname']"
   ]
  },
  {
   "cell_type": "code",
   "execution_count": 14,
   "id": "5a0b338c-b43d-4e50-8883-9e926468c6e5",
   "metadata": {},
   "outputs": [
    {
     "name": "stdout",
     "output_type": "stream",
     "text": [
      "{'firstname': 'code', 'username': 'codetrainingacademy', 'dob': '01-01-2020', 'pwd': '54321'}\n"
     ]
    }
   ],
   "source": [
    "print(user_account)"
   ]
  },
  {
   "cell_type": "code",
   "execution_count": null,
   "id": "aba1af61-136b-42f4-b0ea-80f90218b8e8",
   "metadata": {},
   "outputs": [],
   "source": []
  },
  {
   "cell_type": "code",
   "execution_count": null,
   "id": "06b69dbf-121e-45b1-8ea4-d930bad1e29b",
   "metadata": {},
   "outputs": [],
   "source": [
    "Introduction to looping statements: "
   ]
  },
  {
   "cell_type": "code",
   "execution_count": 16,
   "id": "0c2fd8ba-a2e3-4c11-9328-1be091c5f19e",
   "metadata": {},
   "outputs": [],
   "source": [
    "students = ['durga', 'dinesh', 'kavya', 'noor', 'raza', 'abid', 'joseph']"
   ]
  },
  {
   "cell_type": "code",
   "execution_count": 17,
   "id": "3f3e323e-a2b1-44c2-84d4-5690d1a1ea14",
   "metadata": {},
   "outputs": [
    {
     "name": "stdout",
     "output_type": "stream",
     "text": [
      "keep up the good work, Durga\n"
     ]
    }
   ],
   "source": [
    "print(f\"keep up the good work, {students[0].title()}\")"
   ]
  },
  {
   "cell_type": "code",
   "execution_count": 18,
   "id": "8a50f7fa-a366-49ef-baa8-34bc2b1e93af",
   "metadata": {},
   "outputs": [
    {
     "name": "stdout",
     "output_type": "stream",
     "text": [
      "keep up the good work, Dinesh\n"
     ]
    }
   ],
   "source": [
    "print(f\"keep up the good work, {students[1].title()}\")"
   ]
  },
  {
   "cell_type": "code",
   "execution_count": 19,
   "id": "57e37906-14f2-4fbb-826d-7f38561e7d71",
   "metadata": {},
   "outputs": [
    {
     "name": "stdout",
     "output_type": "stream",
     "text": [
      "keep up the good work, Kavya\n"
     ]
    }
   ],
   "source": [
    "print(f\"keep up the good work, {students[2].title()}\")"
   ]
  },
  {
   "cell_type": "code",
   "execution_count": null,
   "id": "dc988d40-436a-4e9e-8648-8dd15b062c76",
   "metadata": {},
   "outputs": [],
   "source": []
  },
  {
   "cell_type": "code",
   "execution_count": null,
   "id": "da0b8771-a35a-4e08-955e-fcf86dfc0e6b",
   "metadata": {},
   "outputs": [],
   "source": [
    "Introduction to for loop: "
   ]
  },
  {
   "cell_type": "code",
   "execution_count": null,
   "id": "dd35f308-4c9b-44fe-9896-efd5955ae1be",
   "metadata": {},
   "outputs": [],
   "source": [
    "# General syntax of for loop:\n",
    "\n",
    "for tempvar in mainvar:\n",
    "    print(tempvar)"
   ]
  },
  {
   "cell_type": "code",
   "execution_count": 20,
   "id": "b5d81b53-2f82-4341-a27a-0dc23b4c4d1e",
   "metadata": {},
   "outputs": [
    {
     "name": "stdout",
     "output_type": "stream",
     "text": [
      "keep up the good work, Durga\n",
      "keep up the good work, Dinesh\n",
      "keep up the good work, Kavya\n",
      "keep up the good work, Noor\n",
      "keep up the good work, Raza\n",
      "keep up the good work, Abid\n",
      "keep up the good work, Joseph\n"
     ]
    }
   ],
   "source": [
    "for x in students:\n",
    "    print(f\"keep up the good work, {x.title()}\")"
   ]
  },
  {
   "cell_type": "code",
   "execution_count": null,
   "id": "45ab1843-d4e5-4b54-a7d1-272ba1dd90fe",
   "metadata": {},
   "outputs": [],
   "source": []
  },
  {
   "cell_type": "code",
   "execution_count": 21,
   "id": "fedb7aec-3b30-4417-857d-908b9972c1c0",
   "metadata": {},
   "outputs": [
    {
     "name": "stdout",
     "output_type": "stream",
     "text": [
      "durga\n",
      "dinesh\n",
      "kavya\n",
      "noor\n",
      "raza\n",
      "abid\n",
      "joseph\n"
     ]
    }
   ],
   "source": [
    "for a in students:\n",
    "    print(a)"
   ]
  },
  {
   "cell_type": "code",
   "execution_count": null,
   "id": "3b678125-5e6b-49e0-be78-7a781642f84c",
   "metadata": {},
   "outputs": [],
   "source": []
  },
  {
   "cell_type": "code",
   "execution_count": null,
   "id": "6b14f66b-98ec-4859-9d1d-d8c61ae07eab",
   "metadata": {},
   "outputs": [],
   "source": [
    "for a in students:\n",
    "print(a)"
   ]
  },
  {
   "cell_type": "code",
   "execution_count": null,
   "id": "812d692f-85c2-4853-a8e8-7d3f920f4bdc",
   "metadata": {},
   "outputs": [],
   "source": []
  },
  {
   "cell_type": "code",
   "execution_count": null,
   "id": "0b761603-142b-4f21-98b6-1b218ad1c2ce",
   "metadata": {},
   "outputs": [],
   "source": []
  },
  {
   "cell_type": "code",
   "execution_count": null,
   "id": "5de4db44-a8ce-4337-9023-f65a442d223c",
   "metadata": {},
   "outputs": [],
   "source": []
  },
  {
   "cell_type": "code",
   "execution_count": null,
   "id": "f572be7b-63d2-47c1-ad7c-fd3a3aed8c30",
   "metadata": {},
   "outputs": [],
   "source": []
  },
  {
   "cell_type": "code",
   "execution_count": null,
   "id": "386460b9-cdfa-462f-a08a-63550917567b",
   "metadata": {},
   "outputs": [],
   "source": []
  },
  {
   "cell_type": "code",
   "execution_count": null,
   "id": "5d21f1b1-f47b-460c-a1d1-3004689d5b3c",
   "metadata": {},
   "outputs": [],
   "source": []
  }
 ],
 "metadata": {
  "kernelspec": {
   "display_name": "Python [conda env:base] *",
   "language": "python",
   "name": "conda-base-py"
  },
  "language_info": {
   "codemirror_mode": {
    "name": "ipython",
    "version": 3
   },
   "file_extension": ".py",
   "mimetype": "text/x-python",
   "name": "python",
   "nbconvert_exporter": "python",
   "pygments_lexer": "ipython3",
   "version": "3.13.5"
  }
 },
 "nbformat": 4,
 "nbformat_minor": 5
}
