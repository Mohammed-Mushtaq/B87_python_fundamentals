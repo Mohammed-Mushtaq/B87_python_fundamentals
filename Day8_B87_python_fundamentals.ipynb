{
 "cells": [
  {
   "cell_type": "code",
   "execution_count": null,
   "id": "98500ac4-ac36-41be-aa79-e7ae6ce11086",
   "metadata": {},
   "outputs": [],
   "source": [
    "Introduction to conditional statements:"
   ]
  },
  {
   "cell_type": "code",
   "execution_count": null,
   "id": "1d716177-bfac-4c35-accb-170fee356725",
   "metadata": {},
   "outputs": [],
   "source": [
    "if statements :"
   ]
  },
  {
   "cell_type": "code",
   "execution_count": 1,
   "id": "f2d19146-6bd5-49e4-8ef6-965ab82241b5",
   "metadata": {},
   "outputs": [],
   "source": [
    "cars = ['audi', 'bmw', 'hundai', 'toyota', 'kia', 'suzuki', 'maruthi']"
   ]
  },
  {
   "cell_type": "code",
   "execution_count": 2,
   "id": "3c2ccf42-42e1-401a-bf52-02f719a94ac6",
   "metadata": {},
   "outputs": [
    {
     "name": "stdout",
     "output_type": "stream",
     "text": [
      "['audi', 'bmw', 'hundai', 'toyota', 'kia', 'suzuki', 'maruthi']\n"
     ]
    }
   ],
   "source": [
    "print(cars)"
   ]
  },
  {
   "cell_type": "code",
   "execution_count": 3,
   "id": "1ff2ca7e-5e17-49ca-bea2-5402b20594b1",
   "metadata": {},
   "outputs": [
    {
     "data": {
      "text/plain": [
       "list"
      ]
     },
     "execution_count": 3,
     "metadata": {},
     "output_type": "execute_result"
    }
   ],
   "source": [
    "type(cars)"
   ]
  },
  {
   "cell_type": "code",
   "execution_count": null,
   "id": "ac78732c-0970-4116-aad7-ea860763731a",
   "metadata": {},
   "outputs": [],
   "source": []
  },
  {
   "cell_type": "code",
   "execution_count": null,
   "id": "0d72997f-6918-4f84-b733-8de3e90c4749",
   "metadata": {},
   "outputs": [],
   "source": [
    "# req: i want to get suzuki in the capital letters and rest all the cars should be printed in title case"
   ]
  },
  {
   "cell_type": "code",
   "execution_count": 4,
   "id": "81be328d-dfd3-4fcb-a805-4cdd43e87282",
   "metadata": {},
   "outputs": [
    {
     "name": "stdout",
     "output_type": "stream",
     "text": [
      "Audi\n",
      "Bmw\n",
      "Hundai\n",
      "Toyota\n",
      "Kia\n",
      "SUZUKI\n",
      "Maruthi\n"
     ]
    }
   ],
   "source": [
    "for a in cars:\n",
    "    if(a == 'suzuki'):\n",
    "        print(a.upper())\n",
    "    else:\n",
    "        print(a.title())"
   ]
  },
  {
   "cell_type": "code",
   "execution_count": null,
   "id": "6e6ebc76-f843-43d1-8568-094f39016d17",
   "metadata": {},
   "outputs": [],
   "source": []
  },
  {
   "cell_type": "code",
   "execution_count": null,
   "id": "4833ffd0-6fd1-40d4-816a-d1630c2c5710",
   "metadata": {},
   "outputs": [],
   "source": [
    "# req: Building a voting application"
   ]
  },
  {
   "cell_type": "code",
   "execution_count": 12,
   "id": "b2d37968-5b22-4ae9-8d18-de7cc88efa46",
   "metadata": {},
   "outputs": [],
   "source": [
    "#age = 17\n",
    "\n",
    "age = 19"
   ]
  },
  {
   "cell_type": "code",
   "execution_count": 13,
   "id": "7b5a0989-58d9-4ec4-8ce2-c2d5356b3d7f",
   "metadata": {},
   "outputs": [
    {
     "data": {
      "text/plain": [
       "int"
      ]
     },
     "execution_count": 13,
     "metadata": {},
     "output_type": "execute_result"
    }
   ],
   "source": [
    "type(age)"
   ]
  },
  {
   "cell_type": "code",
   "execution_count": 14,
   "id": "b4e590ee-1076-4418-b14d-184fbe758d62",
   "metadata": {},
   "outputs": [
    {
     "name": "stdout",
     "output_type": "stream",
     "text": [
      "You are eligible to vote\n"
     ]
    }
   ],
   "source": [
    "if(age >= 18):\n",
    "    print(\"You are eligible to vote\")\n",
    "else:\n",
    "    print(\"You are not eligible to vote, try next year\")"
   ]
  },
  {
   "cell_type": "code",
   "execution_count": null,
   "id": "861a2ea3-dc1c-4c64-86b1-edd1c64ca71a",
   "metadata": {},
   "outputs": [],
   "source": []
  },
  {
   "cell_type": "code",
   "execution_count": null,
   "id": "33731b0e-18b8-4460-854b-b44fcbb479b8",
   "metadata": {},
   "outputs": [],
   "source": [
    "Understanding the concept of user input:"
   ]
  },
  {
   "cell_type": "code",
   "execution_count": 16,
   "id": "a79ccb1d-97e5-40bc-b7c1-b9af26d1829d",
   "metadata": {},
   "outputs": [
    {
     "name": "stdin",
     "output_type": "stream",
     "text": [
      "Tell me something and i will repeat it back for you  good afternoon\n"
     ]
    },
    {
     "name": "stdout",
     "output_type": "stream",
     "text": [
      "good afternoon\n"
     ]
    }
   ],
   "source": [
    "message = input(\"Tell me something and i will repeat it back for you \") # enter once gave value in popup cell.\n",
    "print(message)"
   ]
  },
  {
   "cell_type": "code",
   "execution_count": null,
   "id": "3e0f38b2-2817-49c6-b62d-29298c74eb63",
   "metadata": {},
   "outputs": [],
   "source": []
  },
  {
   "cell_type": "code",
   "execution_count": null,
   "id": "6e432ce6-8b82-493c-8759-aaf97fc052dc",
   "metadata": {},
   "outputs": [],
   "source": [
    "# req: i want to greet the user based on the input."
   ]
  },
  {
   "cell_type": "code",
   "execution_count": 21,
   "id": "a76bdf95-1981-4dcc-8a56-cf4d5c75d78f",
   "metadata": {},
   "outputs": [
    {
     "name": "stdin",
     "output_type": "stream",
     "text": [
      "Please enter your name:  Mushtaq\n"
     ]
    },
    {
     "name": "stdout",
     "output_type": "stream",
     "text": [
      "\n",
      " Hello, Mushtaq!\n"
     ]
    }
   ],
   "source": [
    "name = input(\"Please enter your name: \")\n",
    "print(f\"\\n Hello, {name}!\")"
   ]
  },
  {
   "cell_type": "code",
   "execution_count": null,
   "id": "cdc73e58-7764-425b-b8e3-1d7eadc69583",
   "metadata": {},
   "outputs": [],
   "source": []
  },
  {
   "cell_type": "code",
   "execution_count": 23,
   "id": "26aa5c5e-5925-4dca-a3ff-20efbcf64d4e",
   "metadata": {},
   "outputs": [
    {
     "name": "stdin",
     "output_type": "stream",
     "text": [
      "How old are you? 19\n"
     ]
    }
   ],
   "source": []
  },
  {
   "cell_type": "code",
   "execution_count": 24,
   "id": "3ce6d1a2-55e5-4a6f-bfd6-71104bf07d65",
   "metadata": {},
   "outputs": [
    {
     "name": "stdin",
     "output_type": "stream",
     "text": [
      "How old are you? 19\n"
     ]
    },
    {
     "ename": "TypeError",
     "evalue": "'>=' not supported between instances of 'str' and 'int'",
     "output_type": "error",
     "traceback": [
      "\u001b[1;31m---------------------------------------------------------------------------\u001b[0m",
      "\u001b[1;31mTypeError\u001b[0m                                 Traceback (most recent call last)",
      "Cell \u001b[1;32mIn[24], line 2\u001b[0m\n\u001b[0;32m      1\u001b[0m age \u001b[38;5;241m=\u001b[39m \u001b[38;5;28minput\u001b[39m(\u001b[38;5;124m\"\u001b[39m\u001b[38;5;124mHow old are you?\u001b[39m\u001b[38;5;124m\"\u001b[39m)\n\u001b[1;32m----> 2\u001b[0m \u001b[38;5;28;01mif\u001b[39;00m age \u001b[38;5;241m>\u001b[39m\u001b[38;5;241m=\u001b[39m \u001b[38;5;241m18\u001b[39m :\n\u001b[0;32m      3\u001b[0m     \u001b[38;5;28mprint\u001b[39m(\u001b[38;5;124m\"\u001b[39m\u001b[38;5;124mYou are eligible to vote\u001b[39m\u001b[38;5;124m\"\u001b[39m)\n\u001b[0;32m      4\u001b[0m \u001b[38;5;28;01melse\u001b[39;00m:\n",
      "\u001b[1;31mTypeError\u001b[0m: '>=' not supported between instances of 'str' and 'int'"
     ]
    }
   ],
   "source": [
    "age = input(\"How old are you?\")\n",
    "if age >= 18 :\n",
    "    print(\"You are eligible to vote\")\n",
    "else:\n",
    "    print(\"You are not eligible to vote, try next year\")"
   ]
  },
  {
   "cell_type": "code",
   "execution_count": 28,
   "id": "b9cb8529-bf52-4961-a1e2-315195cfc1f3",
   "metadata": {},
   "outputs": [
    {
     "name": "stdin",
     "output_type": "stream",
     "text": [
      "How old are you? 20\n"
     ]
    },
    {
     "name": "stdout",
     "output_type": "stream",
     "text": [
      "You are eligible to vote\n"
     ]
    }
   ],
   "source": [
    "age = input(\"How old are you?\")\n",
    "age = int(age) # type casting - converting string to int\n",
    "\n",
    "if age >= 18 :\n",
    "    print(\"You are eligible to vote\")\n",
    "else:\n",
    "    print(\"You are not eligible to vote, try next year\")"
   ]
  },
  {
   "cell_type": "code",
   "execution_count": null,
   "id": "72880420-c14a-4e84-b8bb-fa1182029d60",
   "metadata": {},
   "outputs": [],
   "source": []
  },
  {
   "cell_type": "code",
   "execution_count": null,
   "id": "42c0147a-fa14-4a6c-94e5-bedbc313ae16",
   "metadata": {},
   "outputs": [],
   "source": [
    "# req: if given a number by the user, to find whether its even or odd."
   ]
  },
  {
   "cell_type": "code",
   "execution_count": 31,
   "id": "18b81405-a821-4d2e-b5cd-46a558c8a603",
   "metadata": {},
   "outputs": [
    {
     "name": "stdin",
     "output_type": "stream",
     "text": [
      "Enter a number:  4\n"
     ]
    },
    {
     "name": "stdout",
     "output_type": "stream",
     "text": [
      "\n",
      " the number 4 is even\n"
     ]
    }
   ],
   "source": [
    "number = input(\"Enter a number: \")\n",
    "number = int(number)\n",
    "\n",
    "if number % 2 == 0 :\n",
    "    print(f\"\\n the number {number} is even\")\n",
    "else:\n",
    "    print(f\"\\n the number {number} is odd\")"
   ]
  },
  {
   "cell_type": "code",
   "execution_count": null,
   "id": "c6b5f8e6-18b6-4de0-aef8-47f97031b01b",
   "metadata": {},
   "outputs": [],
   "source": []
  },
  {
   "cell_type": "code",
   "execution_count": null,
   "id": "80ef4635-8d46-4cee-9227-5a6ff1ec927b",
   "metadata": {},
   "outputs": [],
   "source": []
  },
  {
   "cell_type": "code",
   "execution_count": null,
   "id": "3e7d37c2-0f2e-4857-b81a-9878e883d89f",
   "metadata": {},
   "outputs": [],
   "source": []
  },
  {
   "cell_type": "code",
   "execution_count": null,
   "id": "7a2b44fc-b61e-4b43-b6eb-7348b455e776",
   "metadata": {},
   "outputs": [],
   "source": []
  },
  {
   "cell_type": "code",
   "execution_count": null,
   "id": "939cf042-277e-4636-80b8-a76841d281ae",
   "metadata": {},
   "outputs": [],
   "source": []
  },
  {
   "cell_type": "code",
   "execution_count": null,
   "id": "a3e90841-c1df-42b2-b127-1414f1b309ab",
   "metadata": {},
   "outputs": [],
   "source": []
  },
  {
   "cell_type": "code",
   "execution_count": null,
   "id": "076046e7-de2f-48e5-857b-5685445abe19",
   "metadata": {},
   "outputs": [],
   "source": []
  },
  {
   "cell_type": "code",
   "execution_count": null,
   "id": "3043ba42-7141-4b99-8160-2ed1f6c44932",
   "metadata": {},
   "outputs": [],
   "source": []
  },
  {
   "cell_type": "code",
   "execution_count": null,
   "id": "672cff65-4ceb-4c50-a952-2a7327878826",
   "metadata": {},
   "outputs": [],
   "source": []
  }
 ],
 "metadata": {
  "kernelspec": {
   "display_name": "Python [conda env:base] *",
   "language": "python",
   "name": "conda-base-py"
  },
  "language_info": {
   "codemirror_mode": {
    "name": "ipython",
    "version": 3
   },
   "file_extension": ".py",
   "mimetype": "text/x-python",
   "name": "python",
   "nbconvert_exporter": "python",
   "pygments_lexer": "ipython3",
   "version": "3.13.5"
  }
 },
 "nbformat": 4,
 "nbformat_minor": 5
}
