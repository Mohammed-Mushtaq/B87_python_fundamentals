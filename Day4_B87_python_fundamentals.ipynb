{
 "cells": [
  {
   "cell_type": "code",
   "execution_count": null,
   "id": "39b687ff-6dcf-4279-a43a-28fa88fb9658",
   "metadata": {},
   "outputs": [],
   "source": [
    "Introduction to datatypes:"
   ]
  },
  {
   "cell_type": "code",
   "execution_count": null,
   "id": "1866705b-dcb7-492f-aea4-aa6a8affe0f1",
   "metadata": {},
   "outputs": [],
   "source": [
    "1. String \n",
    "2. Numbers ===> integers (int) and float (decimals) = 0.1, 0.2\n",
    "3. list datatype\n",
    "4. tuples\n",
    "5. Dictionaries"
   ]
  },
  {
   "cell_type": "code",
   "execution_count": null,
   "id": "af580608-475a-46a9-b5ca-9056bc1f51ab",
   "metadata": {},
   "outputs": [],
   "source": []
  },
  {
   "cell_type": "code",
   "execution_count": null,
   "id": "677964c6-5ae4-479a-8435-2029201fe9d1",
   "metadata": {},
   "outputs": [],
   "source": [
    "introduction to Numbers:"
   ]
  },
  {
   "cell_type": "code",
   "execution_count": 2,
   "id": "f9fd0533-cb60-481d-81f9-1620f7f39be8",
   "metadata": {},
   "outputs": [
    {
     "name": "stdout",
     "output_type": "stream",
     "text": [
      "123\n"
     ]
    }
   ],
   "source": [
    "number = 123\n",
    "print(number)"
   ]
  },
  {
   "cell_type": "code",
   "execution_count": 3,
   "id": "35266f4b-f1ab-447a-965f-ac49cd11cac7",
   "metadata": {},
   "outputs": [
    {
     "data": {
      "text/plain": [
       "int"
      ]
     },
     "execution_count": 3,
     "metadata": {},
     "output_type": "execute_result"
    }
   ],
   "source": [
    "type(number)"
   ]
  },
  {
   "cell_type": "code",
   "execution_count": 4,
   "id": "1dfce4fa-0b46-4036-8212-a282a6bb36d4",
   "metadata": {},
   "outputs": [
    {
     "name": "stdout",
     "output_type": "stream",
     "text": [
      "0.1\n"
     ]
    }
   ],
   "source": [
    "num2 = 0.1\n",
    "print(num2)"
   ]
  },
  {
   "cell_type": "code",
   "execution_count": 5,
   "id": "3db1ad01-d8d1-438d-98e5-ec41f87f9922",
   "metadata": {},
   "outputs": [
    {
     "data": {
      "text/plain": [
       "float"
      ]
     },
     "execution_count": 5,
     "metadata": {},
     "output_type": "execute_result"
    }
   ],
   "source": [
    "type(num2)"
   ]
  },
  {
   "cell_type": "code",
   "execution_count": null,
   "id": "774008a6-5510-4016-8d5d-307333e4f587",
   "metadata": {},
   "outputs": [],
   "source": []
  },
  {
   "cell_type": "code",
   "execution_count": null,
   "id": "e684f5fd-e912-4373-96ad-56295218fd2d",
   "metadata": {},
   "outputs": [],
   "source": [
    "Introduction to list datatype:\n",
    "Definition: A list is a collection of items defined in a particular order.\n",
    "Classified: It is classified as mutable datatype (which we can edit/alter)\n",
    "how to defined the list datatype: [] #square brackets."
   ]
  },
  {
   "cell_type": "code",
   "execution_count": null,
   "id": "b6770c8e-c04d-4e57-be1d-f85e487814ab",
   "metadata": {},
   "outputs": [],
   "source": []
  },
  {
   "cell_type": "code",
   "execution_count": 8,
   "id": "e4e90b7c-c7b6-422a-9494-1dbffbf79ab7",
   "metadata": {},
   "outputs": [],
   "source": [
    "students = ['arpita', 'ashwini', 'asma', 'bhuvan', 'david', 'karthik']"
   ]
  },
  {
   "cell_type": "code",
   "execution_count": 9,
   "id": "a5fa720a-c5d7-49f5-a1d2-59b57e44b77a",
   "metadata": {},
   "outputs": [
    {
     "name": "stdout",
     "output_type": "stream",
     "text": [
      "['arpita', 'ashwini', 'asma', 'bhuvan', 'david', 'karthik']\n"
     ]
    }
   ],
   "source": [
    "print(students)"
   ]
  },
  {
   "cell_type": "code",
   "execution_count": 11,
   "id": "60f0cc2e-dfc8-4f9b-be73-fe9450d15602",
   "metadata": {},
   "outputs": [
    {
     "data": {
      "text/plain": [
       "list"
      ]
     },
     "execution_count": 11,
     "metadata": {},
     "output_type": "execute_result"
    }
   ],
   "source": [
    "type(students)"
   ]
  },
  {
   "cell_type": "code",
   "execution_count": null,
   "id": "0810f3f7-2f4c-4aa2-b212-8b61e23cbf57",
   "metadata": {},
   "outputs": [],
   "source": []
  },
  {
   "cell_type": "code",
   "execution_count": null,
   "id": "c45d29e6-edc2-47b6-b0a9-7ba10fa94669",
   "metadata": {},
   "outputs": [],
   "source": [
    "Introduction to indexing: 0, 1, 2, 3, 4, 5, 6,......."
   ]
  },
  {
   "cell_type": "code",
   "execution_count": null,
   "id": "3a005e0d-236e-4086-b0c7-c55a8658b452",
   "metadata": {},
   "outputs": [],
   "source": []
  },
  {
   "cell_type": "code",
   "execution_count": null,
   "id": "ad145fbc-6ebb-4bdb-a1c5-84b8a5d806fd",
   "metadata": {},
   "outputs": [],
   "source": [
    "# req: i want to access ashwini name in the output?"
   ]
  },
  {
   "cell_type": "code",
   "execution_count": 12,
   "id": "8b8e9c58-8f66-4333-bd42-6a775c820b1f",
   "metadata": {},
   "outputs": [
    {
     "name": "stdout",
     "output_type": "stream",
     "text": [
      "ashwini\n"
     ]
    }
   ],
   "source": [
    "print(students[1])"
   ]
  },
  {
   "cell_type": "code",
   "execution_count": 13,
   "id": "15c0024e-5925-46d6-b273-71ba295ce1f6",
   "metadata": {},
   "outputs": [
    {
     "name": "stdout",
     "output_type": "stream",
     "text": [
      "Ashwini\n"
     ]
    }
   ],
   "source": [
    "print(students[1].title())"
   ]
  },
  {
   "cell_type": "code",
   "execution_count": null,
   "id": "8078aa61-8455-44cc-911e-a917c49a4db0",
   "metadata": {},
   "outputs": [],
   "source": []
  },
  {
   "cell_type": "code",
   "execution_count": null,
   "id": "1edcb333-a0c4-4f93-ab51-e4c04ceb815a",
   "metadata": {},
   "outputs": [],
   "source": [
    "# req: i want to access bhuvan name in the output?"
   ]
  },
  {
   "cell_type": "code",
   "execution_count": 15,
   "id": "37c67305-8300-4e19-8c15-27cf26d1e704",
   "metadata": {},
   "outputs": [
    {
     "name": "stdout",
     "output_type": "stream",
     "text": [
      "Bhuvan\n"
     ]
    }
   ],
   "source": [
    "print(students[3].title())"
   ]
  },
  {
   "cell_type": "code",
   "execution_count": null,
   "id": "0388bcc5-a539-4eda-90d2-75c5d8d8a113",
   "metadata": {},
   "outputs": [],
   "source": []
  },
  {
   "cell_type": "code",
   "execution_count": null,
   "id": "0513a5e8-4be7-4561-be94-2a9540cdb81a",
   "metadata": {},
   "outputs": [],
   "source": [
    "how to add new elements to the list?\n",
    "how to modify the element in the list?\n",
    "how to delete the elements in the list?"
   ]
  },
  {
   "cell_type": "code",
   "execution_count": null,
   "id": "a886fc8a-74da-4eb0-a4a1-4dde9b789044",
   "metadata": {},
   "outputs": [],
   "source": []
  },
  {
   "cell_type": "code",
   "execution_count": 17,
   "id": "6c4548fd-06d6-48f5-b8ea-80aa8607c6a6",
   "metadata": {},
   "outputs": [
    {
     "name": "stdout",
     "output_type": "stream",
     "text": [
      "['arpita', 'ashwini', 'asma', 'bhuvan', 'david', 'karthik']\n"
     ]
    }
   ],
   "source": [
    "print(students)"
   ]
  },
  {
   "cell_type": "code",
   "execution_count": null,
   "id": "42481e60-b147-4919-ba5c-91d00cf1cea2",
   "metadata": {},
   "outputs": [],
   "source": [
    "# req: i want to add 'shafi' name in the above list?"
   ]
  },
  {
   "cell_type": "code",
   "execution_count": 18,
   "id": "f0a59f19-dc01-4c0e-be9b-6b17b85b8905",
   "metadata": {},
   "outputs": [],
   "source": [
    "students.append('shafi')"
   ]
  },
  {
   "cell_type": "code",
   "execution_count": 19,
   "id": "8467bca4-ce5c-42e4-a6bb-5022c91b0ea0",
   "metadata": {},
   "outputs": [
    {
     "name": "stdout",
     "output_type": "stream",
     "text": [
      "['arpita', 'ashwini', 'asma', 'bhuvan', 'david', 'karthik', 'shafi']\n"
     ]
    }
   ],
   "source": [
    "print(students)"
   ]
  },
  {
   "cell_type": "code",
   "execution_count": null,
   "id": "4a7312d0-480a-49e6-bf5f-68156e821cca",
   "metadata": {},
   "outputs": [],
   "source": [
    "# req: i want to add 'venkat' name in the above list?"
   ]
  },
  {
   "cell_type": "code",
   "execution_count": 22,
   "id": "dfeba02e-d58b-4d82-9b9f-524165e9335a",
   "metadata": {},
   "outputs": [
    {
     "name": "stdout",
     "output_type": "stream",
     "text": [
      "['arpita', 'ashwini', 'asma', 'bhuvan', 'david', 'karthik', 'shafi', 'venkat', 'venkat']\n"
     ]
    }
   ],
   "source": [
    "students.append('venkat')\n",
    "print(students)"
   ]
  },
  {
   "cell_type": "code",
   "execution_count": null,
   "id": "c56e99e8-358d-4403-b64f-1c8172b7ef46",
   "metadata": {},
   "outputs": [],
   "source": []
  },
  {
   "cell_type": "code",
   "execution_count": null,
   "id": "5816f68a-00b3-49af-979b-7b95c89f8e48",
   "metadata": {},
   "outputs": [],
   "source": [
    "# req: i want to add 'kaleem' name at 2nd index position?"
   ]
  },
  {
   "cell_type": "code",
   "execution_count": 23,
   "id": "d39b2162-46d3-4233-841e-d1c7678c8ad0",
   "metadata": {},
   "outputs": [],
   "source": [
    "students.insert(2, 'kaleem')"
   ]
  },
  {
   "cell_type": "code",
   "execution_count": 24,
   "id": "88e98080-3298-489a-8338-45906b0b5a3b",
   "metadata": {},
   "outputs": [
    {
     "name": "stdout",
     "output_type": "stream",
     "text": [
      "['arpita', 'ashwini', 'kaleem', 'asma', 'bhuvan', 'david', 'karthik', 'shafi', 'venkat', 'venkat']\n"
     ]
    }
   ],
   "source": [
    "print(students)"
   ]
  },
  {
   "cell_type": "code",
   "execution_count": 25,
   "id": "d692a8b7-f60f-4ba9-abb9-3e24266d666e",
   "metadata": {},
   "outputs": [
    {
     "name": "stdout",
     "output_type": "stream",
     "text": [
      "kaleem\n"
     ]
    }
   ],
   "source": [
    "print(students[2])"
   ]
  },
  {
   "cell_type": "code",
   "execution_count": null,
   "id": "b11f127f-b683-423f-bc4f-5cda3bf24e7f",
   "metadata": {},
   "outputs": [],
   "source": []
  },
  {
   "cell_type": "code",
   "execution_count": null,
   "id": "be2251aa-e02f-407e-830e-7b6f69d6af90",
   "metadata": {},
   "outputs": [],
   "source": [
    "Interview question: What is the difference between append() and insert() method in the list datatype?\n",
    "Ans: append will use to add item at the rear end and insert method is used to add item any position."
   ]
  },
  {
   "cell_type": "code",
   "execution_count": null,
   "id": "1c9d8044-c2a1-4f3a-b969-223ae9897700",
   "metadata": {},
   "outputs": [],
   "source": []
  },
  {
   "cell_type": "code",
   "execution_count": 26,
   "id": "6c38a746-2c04-4e35-a101-a2d226560683",
   "metadata": {},
   "outputs": [
    {
     "name": "stdout",
     "output_type": "stream",
     "text": [
      "['arpita', 'ashwini', 'kaleem', 'asma', 'bhuvan', 'david', 'karthik', 'shafi', 'venkat', 'venkat']\n"
     ]
    }
   ],
   "source": [
    "print(students)"
   ]
  },
  {
   "cell_type": "code",
   "execution_count": null,
   "id": "595fb704-ef9e-4e75-a1e7-33d5e9d0b238",
   "metadata": {},
   "outputs": [],
   "source": [
    "#req: i want to modify 'arpita' name to 'anand'."
   ]
  },
  {
   "cell_type": "code",
   "execution_count": 27,
   "id": "1843d178-866d-4ffe-a4a5-3e754c9bdaa2",
   "metadata": {},
   "outputs": [],
   "source": [
    "students[0] = 'anand'"
   ]
  },
  {
   "cell_type": "code",
   "execution_count": 28,
   "id": "76396873-03dd-42ef-9b69-c2b7ef4cc8c7",
   "metadata": {},
   "outputs": [
    {
     "name": "stdout",
     "output_type": "stream",
     "text": [
      "['anand', 'ashwini', 'kaleem', 'asma', 'bhuvan', 'david', 'karthik', 'shafi', 'venkat', 'venkat']\n"
     ]
    }
   ],
   "source": [
    "print(students)"
   ]
  },
  {
   "cell_type": "code",
   "execution_count": null,
   "id": "3a1fef87-7617-4854-890c-d5cde3bbcf8d",
   "metadata": {},
   "outputs": [],
   "source": []
  },
  {
   "cell_type": "code",
   "execution_count": 29,
   "id": "3a10a6b8-6925-4c58-95a2-00b4e3622f12",
   "metadata": {},
   "outputs": [
    {
     "name": "stdout",
     "output_type": "stream",
     "text": [
      "['anand', 'ashwini', 'kaleem', 'asma', 'bhuvan', 'david', 'karthik', 'shafi', 'venkat', 'venkat']\n"
     ]
    }
   ],
   "source": [
    "print(students)"
   ]
  },
  {
   "cell_type": "code",
   "execution_count": null,
   "id": "621b2199-0810-427f-aa28-cf9e5dd05199",
   "metadata": {},
   "outputs": [],
   "source": [
    "# req: i want to delete 'ashwini' name in the above list?"
   ]
  },
  {
   "cell_type": "code",
   "execution_count": 30,
   "id": "9dc1ff65-acdc-4665-9a2d-4a63fd90b45b",
   "metadata": {},
   "outputs": [],
   "source": [
    "del students[1]"
   ]
  },
  {
   "cell_type": "code",
   "execution_count": 31,
   "id": "d9f833c4-b26f-45e2-acbe-aafae1446672",
   "metadata": {},
   "outputs": [
    {
     "name": "stdout",
     "output_type": "stream",
     "text": [
      "['anand', 'kaleem', 'asma', 'bhuvan', 'david', 'karthik', 'shafi', 'venkat', 'venkat']\n"
     ]
    }
   ],
   "source": [
    "print(students)"
   ]
  },
  {
   "cell_type": "code",
   "execution_count": null,
   "id": "c179f015-e1b8-4ad2-b509-dd4ac998122d",
   "metadata": {},
   "outputs": [],
   "source": []
  }
 ],
 "metadata": {
  "kernelspec": {
   "display_name": "Python [conda env:base] *",
   "language": "python",
   "name": "conda-base-py"
  },
  "language_info": {
   "codemirror_mode": {
    "name": "ipython",
    "version": 3
   },
   "file_extension": ".py",
   "mimetype": "text/x-python",
   "name": "python",
   "nbconvert_exporter": "python",
   "pygments_lexer": "ipython3",
   "version": "3.13.5"
  }
 },
 "nbformat": 4,
 "nbformat_minor": 5
}
