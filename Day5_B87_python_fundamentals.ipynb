{
 "cells": [
  {
   "cell_type": "code",
   "execution_count": null,
   "id": "9ba733a9-187c-4b20-be66-891c7773760e",
   "metadata": {},
   "outputs": [],
   "source": [
    "continuation with list datatype:"
   ]
  },
  {
   "cell_type": "code",
   "execution_count": null,
   "id": "55421233-8840-464b-bcc1-b697c2071c78",
   "metadata": {},
   "outputs": [],
   "source": []
  },
  {
   "cell_type": "code",
   "execution_count": null,
   "id": "aabbf2d1-badb-47ec-aea6-deedd916e4a8",
   "metadata": {},
   "outputs": [],
   "source": [
    "Organizing the list datatype:"
   ]
  },
  {
   "cell_type": "code",
   "execution_count": 1,
   "id": "891761db-ed79-49b7-b02d-2a151196c53f",
   "metadata": {},
   "outputs": [],
   "source": [
    "cars = ['bmw', 'tata', 'suzuki', 'audi', 'toyata', 'benz']"
   ]
  },
  {
   "cell_type": "code",
   "execution_count": 2,
   "id": "c943ad31-8eda-403e-ac64-ca0f9bb0334c",
   "metadata": {},
   "outputs": [
    {
     "name": "stdout",
     "output_type": "stream",
     "text": [
      "['bmw', 'tata', 'suzuki', 'audi', 'toyata', 'benz']\n"
     ]
    }
   ],
   "source": [
    "print(cars)"
   ]
  },
  {
   "cell_type": "code",
   "execution_count": 3,
   "id": "8877f967-7d5f-4b70-8699-05ae77034eab",
   "metadata": {},
   "outputs": [
    {
     "data": {
      "text/plain": [
       "list"
      ]
     },
     "execution_count": 3,
     "metadata": {},
     "output_type": "execute_result"
    }
   ],
   "source": [
    "type(cars)"
   ]
  },
  {
   "cell_type": "code",
   "execution_count": null,
   "id": "9548ca6b-2022-42b2-9537-f5cfa928bb92",
   "metadata": {},
   "outputs": [],
   "source": []
  },
  {
   "cell_type": "code",
   "execution_count": null,
   "id": "3efeed02-af2a-42a8-b25a-ebf1f6e9d1d3",
   "metadata": {},
   "outputs": [],
   "source": [
    "# req: i want to organise the list in alphabetical order: "
   ]
  },
  {
   "cell_type": "code",
   "execution_count": null,
   "id": "41c3995c-32eb-4025-be9b-964ea61796ac",
   "metadata": {},
   "outputs": [],
   "source": [
    "A, B, C, D"
   ]
  },
  {
   "cell_type": "code",
   "execution_count": null,
   "id": "d27d60e5-cc82-4ef0-a66d-8cb84c427ea5",
   "metadata": {},
   "outputs": [],
   "source": [
    "there are two approaches\n",
    "    1. temporary approach ===> sorted method\n",
    "    2. permanent approach ===> sort method"
   ]
  },
  {
   "cell_type": "code",
   "execution_count": 4,
   "id": "db65a954-1a02-4f98-ba1e-983e1e026fc5",
   "metadata": {},
   "outputs": [
    {
     "name": "stdout",
     "output_type": "stream",
     "text": [
      "['audi', 'benz', 'bmw', 'suzuki', 'tata', 'toyata']\n"
     ]
    }
   ],
   "source": [
    "print(sorted(cars))"
   ]
  },
  {
   "cell_type": "code",
   "execution_count": null,
   "id": "99fae67b-4e9e-48c4-b162-bb0433291df2",
   "metadata": {},
   "outputs": [],
   "source": [
    "benz, bmw ==> e , m"
   ]
  },
  {
   "cell_type": "code",
   "execution_count": 6,
   "id": "144fd916-1d96-4bee-8de5-3ed3c7290ed4",
   "metadata": {},
   "outputs": [
    {
     "name": "stdout",
     "output_type": "stream",
     "text": [
      "['bmw', 'tata', 'suzuki', 'audi', 'toyata', 'benz']\n"
     ]
    }
   ],
   "source": [
    "print(cars) # this is the original order"
   ]
  },
  {
   "cell_type": "code",
   "execution_count": null,
   "id": "2df59d45-a9d0-4382-9cc0-be3865fbc3db",
   "metadata": {},
   "outputs": [],
   "source": []
  },
  {
   "cell_type": "code",
   "execution_count": 12,
   "id": "c9a389c1-f22d-4213-8e39-ccd3d629513e",
   "metadata": {},
   "outputs": [],
   "source": [
    "cars.sort()"
   ]
  },
  {
   "cell_type": "code",
   "execution_count": 13,
   "id": "7128ee98-3111-4b21-867b-6d7544fc3b45",
   "metadata": {},
   "outputs": [
    {
     "name": "stdout",
     "output_type": "stream",
     "text": [
      "['audi', 'benz', 'bmw', 'suzuki', 'tata', 'toyata']\n"
     ]
    }
   ],
   "source": [
    "print(cars)"
   ]
  },
  {
   "cell_type": "code",
   "execution_count": 14,
   "id": "251c38ab-2076-4581-a23d-611d4647acf3",
   "metadata": {},
   "outputs": [
    {
     "name": "stdout",
     "output_type": "stream",
     "text": [
      "['audi', 'benz', 'bmw', 'suzuki', 'tata', 'toyata']\n"
     ]
    }
   ],
   "source": [
    "print(cars)"
   ]
  },
  {
   "cell_type": "code",
   "execution_count": null,
   "id": "866bf681-2d13-46cb-873c-e2e3413c2494",
   "metadata": {},
   "outputs": [],
   "source": []
  },
  {
   "cell_type": "code",
   "execution_count": null,
   "id": "fd7148cb-0e11-45e2-9828-26a5f44f13cd",
   "metadata": {},
   "outputs": [],
   "source": [
    "# Interview question: What is the difference between sorted and sort method in a list datatype?"
   ]
  },
  {
   "cell_type": "code",
   "execution_count": null,
   "id": "d3146d1a-15b4-4454-8638-3e18bf584aaf",
   "metadata": {},
   "outputs": [],
   "source": []
  },
  {
   "cell_type": "code",
   "execution_count": null,
   "id": "2e903480-e218-40f0-83a4-478e7678ec2e",
   "metadata": {},
   "outputs": [],
   "source": [
    "length of list datatype:"
   ]
  },
  {
   "cell_type": "code",
   "execution_count": 16,
   "id": "4b3052b8-10ac-468e-b192-204b4b9b860b",
   "metadata": {},
   "outputs": [
    {
     "name": "stdout",
     "output_type": "stream",
     "text": [
      "6\n"
     ]
    }
   ],
   "source": [
    "print(len(cars))"
   ]
  },
  {
   "cell_type": "code",
   "execution_count": null,
   "id": "ad56e162-6563-4fc1-a092-798f1408042c",
   "metadata": {},
   "outputs": [],
   "source": []
  },
  {
   "cell_type": "code",
   "execution_count": null,
   "id": "0b8610d9-5218-4f1d-a7b0-3f033d83b1a9",
   "metadata": {},
   "outputs": [],
   "source": [
    "# req: i want to print the list in A - Z, Z - A"
   ]
  },
  {
   "cell_type": "code",
   "execution_count": 20,
   "id": "cde056b7-5912-489b-bff9-7785d772154d",
   "metadata": {},
   "outputs": [
    {
     "name": "stdout",
     "output_type": "stream",
     "text": [
      "['toyata', 'tata', 'suzuki', 'bmw', 'benz', 'audi']\n"
     ]
    }
   ],
   "source": [
    "cars.reverse()\n",
    "print(cars)"
   ]
  },
  {
   "cell_type": "raw",
   "id": "3c7cb9f3-d698-49fe-b3f0-f9ba5c3ac87a",
   "metadata": {},
   "source": [
    "# is used to commenting the code"
   ]
  },
  {
   "cell_type": "code",
   "execution_count": null,
   "id": "2b1ba6a9-ca11-4759-b437-5f7e89aca34a",
   "metadata": {},
   "outputs": [],
   "source": []
  },
  {
   "cell_type": "code",
   "execution_count": null,
   "id": "de907d74-da4f-4a32-b6cc-2252c73ecfa2",
   "metadata": {},
   "outputs": [],
   "source": [
    "Introduction to slicing: "
   ]
  },
  {
   "cell_type": "code",
   "execution_count": 21,
   "id": "b2314106-8842-4ad1-945f-452cdb2a0ee1",
   "metadata": {},
   "outputs": [],
   "source": [
    "students = ['anika', 'arpita', 'bhushan', 'bhanu', 'chandra', 'cynthya', 'danish']"
   ]
  },
  {
   "cell_type": "code",
   "execution_count": 22,
   "id": "6c2b0de3-ff45-4a5a-8971-ede5335a4bcc",
   "metadata": {},
   "outputs": [
    {
     "name": "stdout",
     "output_type": "stream",
     "text": [
      "['anika', 'arpita', 'bhushan', 'bhanu', 'chandra', 'cynthya', 'danish']\n"
     ]
    }
   ],
   "source": [
    "print(students)"
   ]
  },
  {
   "cell_type": "code",
   "execution_count": null,
   "id": "da2a85a1-4468-47f6-8a84-6b8c89a0e3d4",
   "metadata": {},
   "outputs": [],
   "source": []
  },
  {
   "cell_type": "code",
   "execution_count": null,
   "id": "ebca9b8d-dbc0-41d1-a595-9318f1ba17be",
   "metadata": {},
   "outputs": [],
   "source": [
    "# general syntax for slicing: \n",
    "[start_value: stop_value: step_count]\n",
    "\n",
    "Note: stop_value is always exclusive,  to include stop value increament the index by +1."
   ]
  },
  {
   "cell_type": "code",
   "execution_count": null,
   "id": "70c6078b-5310-4364-9487-a17694d99d0d",
   "metadata": {},
   "outputs": [],
   "source": []
  },
  {
   "cell_type": "code",
   "execution_count": null,
   "id": "b6af19a6-e7ce-4c11-bf06-37c689a7d8b8",
   "metadata": {},
   "outputs": [],
   "source": [
    "# req: i want to include anika and arpita in the slice."
   ]
  },
  {
   "cell_type": "code",
   "execution_count": 23,
   "id": "8396ccd9-279f-414a-b616-2ca800a0fbb6",
   "metadata": {},
   "outputs": [
    {
     "name": "stdout",
     "output_type": "stream",
     "text": [
      "['anika']\n"
     ]
    }
   ],
   "source": [
    "print(students[0:1])"
   ]
  },
  {
   "cell_type": "code",
   "execution_count": 24,
   "id": "84352227-7504-4518-8770-23789f35f253",
   "metadata": {},
   "outputs": [
    {
     "name": "stdout",
     "output_type": "stream",
     "text": [
      "['anika', 'arpita']\n"
     ]
    }
   ],
   "source": [
    "print(students[0:2])"
   ]
  },
  {
   "cell_type": "code",
   "execution_count": null,
   "id": "cd0b0c2f-0742-4cde-ae78-2dffc2aec262",
   "metadata": {},
   "outputs": [],
   "source": []
  },
  {
   "cell_type": "code",
   "execution_count": null,
   "id": "49f51b0c-6a8a-400b-a9fc-2e9a86d83d49",
   "metadata": {},
   "outputs": [],
   "source": [
    "# req: Bhushan and bhanu"
   ]
  },
  {
   "cell_type": "code",
   "execution_count": 25,
   "id": "f408d8b5-2c03-407b-a697-ca99c8b0ee4e",
   "metadata": {},
   "outputs": [
    {
     "name": "stdout",
     "output_type": "stream",
     "text": [
      "['bhushan', 'bhanu']\n"
     ]
    }
   ],
   "source": [
    "print(students[2:4])"
   ]
  },
  {
   "cell_type": "code",
   "execution_count": null,
   "id": "e04f8988-aa19-4013-9673-bb50530616d4",
   "metadata": {},
   "outputs": [],
   "source": []
  },
  {
   "cell_type": "code",
   "execution_count": 29,
   "id": "a3c0d5c8-a3eb-470c-a4da-af5a47f4343f",
   "metadata": {},
   "outputs": [
    {
     "name": "stdout",
     "output_type": "stream",
     "text": [
      "['anika', 'bhushan', 'chandra', 'danish']\n"
     ]
    }
   ],
   "source": [
    "print(students[0:7:2])"
   ]
  },
  {
   "cell_type": "code",
   "execution_count": 27,
   "id": "f6004eed-f337-41c8-b769-8042ff57e5cc",
   "metadata": {},
   "outputs": [
    {
     "name": "stdout",
     "output_type": "stream",
     "text": [
      "['anika', 'arpita', 'bhushan', 'bhanu', 'chandra', 'cynthya', 'danish']\n"
     ]
    }
   ],
   "source": [
    "print(students)"
   ]
  },
  {
   "cell_type": "code",
   "execution_count": null,
   "id": "ff002941-d9d9-4b1a-beea-7acf23e01cb2",
   "metadata": {},
   "outputs": [],
   "source": []
  },
  {
   "cell_type": "code",
   "execution_count": null,
   "id": "d2a70433-1148-4a4c-9434-80ddee67a54e",
   "metadata": {},
   "outputs": [],
   "source": [
    "Introduction to tuple datatype: "
   ]
  },
  {
   "cell_type": "code",
   "execution_count": null,
   "id": "722e9497-1c12-4319-8e2f-dc5c9b0c9f8f",
   "metadata": {},
   "outputs": [],
   "source": [
    "Definition: An immutable list is called as a tuple.\n",
    "\n",
    "Classification: It is classified as an immutable datatype.\n",
    "How to define the tuple datatype: ()"
   ]
  },
  {
   "cell_type": "code",
   "execution_count": null,
   "id": "3d4658f2-82b3-40ac-b520-65e3beef208a",
   "metadata": {},
   "outputs": [],
   "source": []
  },
  {
   "cell_type": "code",
   "execution_count": 30,
   "id": "50cf560d-601f-4928-ab7a-1240e7b0e4ed",
   "metadata": {},
   "outputs": [],
   "source": [
    "dimensions = (20, 50)"
   ]
  },
  {
   "cell_type": "code",
   "execution_count": 31,
   "id": "de28a14d-28dd-487d-8e1a-2ac46d400f3c",
   "metadata": {},
   "outputs": [
    {
     "name": "stdout",
     "output_type": "stream",
     "text": [
      "(20, 50)\n"
     ]
    }
   ],
   "source": [
    "print(dimensions)"
   ]
  },
  {
   "cell_type": "code",
   "execution_count": 32,
   "id": "9a562616-dbbd-4724-b6ce-ca0dc11a5ee5",
   "metadata": {},
   "outputs": [
    {
     "data": {
      "text/plain": [
       "tuple"
      ]
     },
     "execution_count": 32,
     "metadata": {},
     "output_type": "execute_result"
    }
   ],
   "source": [
    "type(dimensions)"
   ]
  },
  {
   "cell_type": "code",
   "execution_count": 33,
   "id": "fb954b83-f5f0-41bc-b0cc-d106ba146dc8",
   "metadata": {},
   "outputs": [
    {
     "ename": "TypeError",
     "evalue": "'tuple' object does not support item assignment",
     "output_type": "error",
     "traceback": [
      "\u001b[1;31m---------------------------------------------------------------------------\u001b[0m",
      "\u001b[1;31mTypeError\u001b[0m                                 Traceback (most recent call last)",
      "Cell \u001b[1;32mIn[33], line 1\u001b[0m\n\u001b[1;32m----> 1\u001b[0m dimensions[\u001b[38;5;241m0\u001b[39m] \u001b[38;5;241m=\u001b[39m \u001b[38;5;241m30\u001b[39m\n",
      "\u001b[1;31mTypeError\u001b[0m: 'tuple' object does not support item assignment"
     ]
    }
   ],
   "source": [
    "dimensions[0] = 30"
   ]
  },
  {
   "cell_type": "code",
   "execution_count": 34,
   "id": "4f793d95-6cea-4a5f-b8f8-1a72ad84a4ef",
   "metadata": {},
   "outputs": [
    {
     "name": "stdout",
     "output_type": "stream",
     "text": [
      "50\n"
     ]
    }
   ],
   "source": [
    "print(dimensions[1])"
   ]
  },
  {
   "cell_type": "code",
   "execution_count": 35,
   "id": "1d9bdd56-1ec4-4119-9f0b-3daed0c95e2e",
   "metadata": {},
   "outputs": [
    {
     "name": "stdout",
     "output_type": "stream",
     "text": [
      "20\n"
     ]
    }
   ],
   "source": [
    "print(dimensions[0])"
   ]
  },
  {
   "cell_type": "code",
   "execution_count": null,
   "id": "7166dd06-7245-418a-a110-7fe2669c6f93",
   "metadata": {},
   "outputs": [],
   "source": []
  }
 ],
 "metadata": {
  "kernelspec": {
   "display_name": "Python [conda env:base] *",
   "language": "python",
   "name": "conda-base-py"
  },
  "language_info": {
   "codemirror_mode": {
    "name": "ipython",
    "version": 3
   },
   "file_extension": ".py",
   "mimetype": "text/x-python",
   "name": "python",
   "nbconvert_exporter": "python",
   "pygments_lexer": "ipython3",
   "version": "3.13.5"
  }
 },
 "nbformat": 4,
 "nbformat_minor": 5
}
